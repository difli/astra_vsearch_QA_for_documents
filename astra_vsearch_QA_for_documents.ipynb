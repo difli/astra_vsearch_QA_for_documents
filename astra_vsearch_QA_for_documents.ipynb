{
 "cells": [
  {
   "cell_type": "markdown",
   "id": "878d200b",
   "metadata": {
    "colab_type": "text",
    "id": "view-in-github"
   },
   "source": [
    "<a href=\"https://colab.research.google.com/github/difli/astra_vsearch_QA_for_documents/blob/main/astra_vsearch_QA_for_documents.ipynb\" target=\"_parent\"><img src=\"https://colab.research.google.com/assets/colab-badge.svg\" alt=\"Open In Colab\"/></a>"
   ]
  },
  {
   "cell_type": "markdown",
   "id": "cf05e3f2",
   "metadata": {
    "id": "cf05e3f2"
   },
   "source": [
    "# astra-vsearch-QA-for-documents\n",
    "This demo guides you through setting up Astra DB with Vector Search, Cassio and Open AI to implement an generative Q&A for your own Documentation\n",
    "\n",
    "Jupyter notebook for generative Q&A for douments is powered by [Astra Vector Search](https://docs.datastax.com/en/astra-serverless/docs/vector-search/overview.html) and [OpenAI](https://github.com/openai/) and Casssio [Opensource LLM integration with Cassandra and Astra DB](https://cassio.org/).\n",
    "\n",
    "## Astra Vector Search\n",
    "Astra vector search enables developers to search a database by context or meaning rather than keywords or literal values. This is done by using “embeddings”. Embeddings are a type of representation used in machine learning where high-dimensional or complex data is mapped onto vectors in a lower-dimensional space. These vectors capture the semantic properties of the input data, meaning that similar data points have similar embeddings.\n",
    "Reference: [Astra Vector Search](https://docs.datastax.com/en/astra-serverless/docs/vector-search/overview.html)\n",
    "\n",
    "## CassIO\n",
    "CassIO is the ultimate solution for seamlessly integrating Apache Cassandra® with generative artificial intelligence and other machine learning workloads. This powerful Python library simplifies the complicated process of accessing the advanced features of the Cassandra database, including vector search capabilities. With CassIO, developers can fully concentrate on designing and perfecting their AI systems without any concerns regarding the complexities of integration with Cassandra.\n",
    "Reference [Cassio](https://cassio.org/)\n",
    "\n",
    "## OpenAI\n",
    "OpenAI provides various tools and resources to implement your own Document QA Search system. This includes pre-trained language models like GPT-3.5, which can understand and generate human-like text. Additionally, OpenAI offers guidelines and APIs to leverage their models for document search and question-answering tasks, enabling developers to build powerful and intelligent Document QA Search applications.\n",
    "Reference: [OpenAI](https://github.com/openai/)\n",
    "\n",
    "## Demo Summary\n",
    "ChatGPT excels at answering questions, but only on topics it remembers from its training data. It offers you a nice dialog interface to ask questions and get answers.\n",
    "\n",
    "But what do you do when you have your onw documents? How can you leverage the GenAI and LLM models to get insights in those?\n",
    "\n",
    "Think of an Q/A Bot that you want to provide to your customers for asking questions against the documentation of your products.\n",
    "\n",
    "For beeing able to do so, you have to implement your own ChatGPT-like solution.\n",
    "The implementation requires\n",
    "1. Analysing your existing documents and store the information\n",
    "2. Providing search capabilities for your questions to get answers\n",
    "\n",
    "This is solve by using a LLM models. Ideally you embedd the data as vectors and store them in a vector database and then use the LLM models on top of that database.\n",
    "\n",
    "This notebook demonstrates a two-step Search-Ask method for enabling GPT to answer questions using a library of reference on your onw documentations based on Astra DB vector search.\n",
    "\n",
    "\n"
   ]
  },
  {
   "cell_type": "markdown",
   "id": "651400d1",
   "metadata": {
    "id": "651400d1"
   },
   "source": [
    "# Getting Started with this notebook\n",
    "\n",
    "These are prerequisites you need to to before running this notebook\n",
    "- Create a new vector search enabled database in Astra.\n",
    "- Create a keyspace\n",
    "- Create a token with permissions to create tables\n",
    "- Download your secure-connect-bundle.zip file\n",
    "- Create an OpenAI account and download an API Key\n",
    "\n",
    "- When you run this notebook, it will ask you for providing the secure-connect-bundle.zip, some text file and client ids, passwords as well as API Key"
   ]
  },
  {
   "cell_type": "markdown",
   "id": "311cc2e9",
   "metadata": {
    "id": "311cc2e9"
   },
   "source": [
    "# Setup\n",
    "\n",
    "This jupyter notebook was build on Colab. You need to install the following libraries."
   ]
  },
  {
   "cell_type": "code",
   "execution_count": 2,
   "id": "a6d88d66",
   "metadata": {
    "colab": {
     "base_uri": "https://localhost:8080/"
    },
    "id": "a6d88d66",
    "outputId": "5d9cb0b9-8ae3-48f3-e12a-0506a056f544"
   },
   "outputs": [
    {
     "name": "stdout",
     "output_type": "stream",
     "text": [
      "Defaulting to user installation because normal site-packages is not writeable\n",
      "Requirement already satisfied: cassandra-driver>=3.28.0 in /Users/dieter.flick/Library/Python/3.9/lib/python/site-packages (3.28.0)\n",
      "Requirement already satisfied: openai==0.27.7 in /Users/dieter.flick/Library/Python/3.9/lib/python/site-packages (0.27.7)\n",
      "Requirement already satisfied: tiktoken==0.4.0 in /Users/dieter.flick/Library/Python/3.9/lib/python/site-packages (0.4.0)\n",
      "Collecting langchain>=0.0.218\n",
      "  Downloading langchain-0.0.240-py3-none-any.whl (1.4 MB)\n",
      "\u001b[2K     \u001b[38;2;114;156;31m━━━━━━━━━━━━━━━━━━━━━━━━━━━━━━━━━━━━━━━━\u001b[0m \u001b[32m1.4/1.4 MB\u001b[0m \u001b[31m6.0 MB/s\u001b[0m eta \u001b[36m0:00:00\u001b[0mm eta \u001b[36m0:00:01\u001b[0m0:01\u001b[0m:01\u001b[0m\n",
      "\u001b[?25hCollecting cassio==0.0.7\n",
      "  Using cached cassio-0.0.7-py3-none-any.whl (10 kB)\n",
      "Requirement already satisfied: requests>=2.20 in /Users/dieter.flick/Library/Python/3.9/lib/python/site-packages (from openai==0.27.7) (2.31.0)\n",
      "Requirement already satisfied: tqdm in /Users/dieter.flick/Library/Python/3.9/lib/python/site-packages (from openai==0.27.7) (4.65.0)\n",
      "Requirement already satisfied: aiohttp in /Users/dieter.flick/Library/Python/3.9/lib/python/site-packages (from openai==0.27.7) (3.8.4)\n",
      "Requirement already satisfied: regex>=2022.1.18 in /Users/dieter.flick/Library/Python/3.9/lib/python/site-packages (from tiktoken==0.4.0) (2023.6.3)\n",
      "Requirement already satisfied: numpy>=1.0 in /Users/dieter.flick/Library/Python/3.9/lib/python/site-packages (from cassio==0.0.7) (1.23.5)\n",
      "Requirement already satisfied: six>=1.9 in /Users/dieter.flick/Library/Python/3.9/lib/python/site-packages (from cassandra-driver>=3.28.0) (1.16.0)\n",
      "Requirement already satisfied: geomet<0.3,>=0.1 in /Users/dieter.flick/Library/Python/3.9/lib/python/site-packages (from cassandra-driver>=3.28.0) (0.2.1.post1)\n",
      "Requirement already satisfied: PyYAML>=5.4.1 in /Users/dieter.flick/Library/Python/3.9/lib/python/site-packages (from langchain>=0.0.218) (6.0)\n",
      "Requirement already satisfied: SQLAlchemy<3,>=1.4 in /Users/dieter.flick/Library/Python/3.9/lib/python/site-packages (from langchain>=0.0.218) (2.0.16)\n",
      "Requirement already satisfied: async-timeout<5.0.0,>=4.0.0 in /Users/dieter.flick/Library/Python/3.9/lib/python/site-packages (from langchain>=0.0.218) (4.0.2)\n",
      "Requirement already satisfied: dataclasses-json<0.6.0,>=0.5.7 in /Users/dieter.flick/Library/Python/3.9/lib/python/site-packages (from langchain>=0.0.218) (0.5.8)\n",
      "Collecting langsmith<0.1.0,>=0.0.11 (from langchain>=0.0.218)\n",
      "  Downloading langsmith-0.0.14-py3-none-any.whl (29 kB)\n",
      "Requirement already satisfied: numexpr<3.0.0,>=2.8.4 in /Users/dieter.flick/Library/Python/3.9/lib/python/site-packages (from langchain>=0.0.218) (2.8.4)\n",
      "Requirement already satisfied: openapi-schema-pydantic<2.0,>=1.2 in /Users/dieter.flick/Library/Python/3.9/lib/python/site-packages (from langchain>=0.0.218) (1.2.4)\n",
      "Requirement already satisfied: pydantic<2,>=1 in /Users/dieter.flick/Library/Python/3.9/lib/python/site-packages (from langchain>=0.0.218) (1.10.7)\n",
      "Requirement already satisfied: tenacity<9.0.0,>=8.1.0 in /Users/dieter.flick/Library/Python/3.9/lib/python/site-packages (from langchain>=0.0.218) (8.2.2)\n",
      "Requirement already satisfied: attrs>=17.3.0 in /Users/dieter.flick/Library/Python/3.9/lib/python/site-packages (from aiohttp->openai==0.27.7) (23.1.0)\n",
      "Requirement already satisfied: charset-normalizer<4.0,>=2.0 in /Users/dieter.flick/Library/Python/3.9/lib/python/site-packages (from aiohttp->openai==0.27.7) (3.1.0)\n",
      "Requirement already satisfied: multidict<7.0,>=4.5 in /Users/dieter.flick/Library/Python/3.9/lib/python/site-packages (from aiohttp->openai==0.27.7) (6.0.4)\n",
      "Requirement already satisfied: yarl<2.0,>=1.0 in /Users/dieter.flick/Library/Python/3.9/lib/python/site-packages (from aiohttp->openai==0.27.7) (1.9.2)\n",
      "Requirement already satisfied: frozenlist>=1.1.1 in /Users/dieter.flick/Library/Python/3.9/lib/python/site-packages (from aiohttp->openai==0.27.7) (1.3.3)\n",
      "Requirement already satisfied: aiosignal>=1.1.2 in /Users/dieter.flick/Library/Python/3.9/lib/python/site-packages (from aiohttp->openai==0.27.7) (1.3.1)\n",
      "Requirement already satisfied: marshmallow<4.0.0,>=3.3.0 in /Users/dieter.flick/Library/Python/3.9/lib/python/site-packages (from dataclasses-json<0.6.0,>=0.5.7->langchain>=0.0.218) (3.19.0)\n",
      "Requirement already satisfied: marshmallow-enum<2.0.0,>=1.5.1 in /Users/dieter.flick/Library/Python/3.9/lib/python/site-packages (from dataclasses-json<0.6.0,>=0.5.7->langchain>=0.0.218) (1.5.1)\n",
      "Requirement already satisfied: typing-inspect>=0.4.0 in /Users/dieter.flick/Library/Python/3.9/lib/python/site-packages (from dataclasses-json<0.6.0,>=0.5.7->langchain>=0.0.218) (0.9.0)\n",
      "Requirement already satisfied: click in /Users/dieter.flick/Library/Python/3.9/lib/python/site-packages (from geomet<0.3,>=0.1->cassandra-driver>=3.28.0) (8.1.3)\n",
      "Requirement already satisfied: typing-extensions>=4.2.0 in /Users/dieter.flick/Library/Python/3.9/lib/python/site-packages (from pydantic<2,>=1->langchain>=0.0.218) (4.6.3)\n",
      "Requirement already satisfied: idna<4,>=2.5 in /Users/dieter.flick/Library/Python/3.9/lib/python/site-packages (from requests>=2.20->openai==0.27.7) (3.4)\n",
      "Requirement already satisfied: urllib3<3,>=1.21.1 in /Users/dieter.flick/Library/Python/3.9/lib/python/site-packages (from requests>=2.20->openai==0.27.7) (1.26.16)\n",
      "Requirement already satisfied: certifi>=2017.4.17 in /Users/dieter.flick/Library/Python/3.9/lib/python/site-packages (from requests>=2.20->openai==0.27.7) (2023.5.7)\n",
      "Requirement already satisfied: greenlet!=0.4.17 in /Users/dieter.flick/Library/Python/3.9/lib/python/site-packages (from SQLAlchemy<3,>=1.4->langchain>=0.0.218) (2.0.2)\n",
      "Requirement already satisfied: packaging>=17.0 in /Users/dieter.flick/Library/Python/3.9/lib/python/site-packages (from marshmallow<4.0.0,>=3.3.0->dataclasses-json<0.6.0,>=0.5.7->langchain>=0.0.218) (23.1)\n",
      "Requirement already satisfied: mypy-extensions>=0.3.0 in /Users/dieter.flick/Library/Python/3.9/lib/python/site-packages (from typing-inspect>=0.4.0->dataclasses-json<0.6.0,>=0.5.7->langchain>=0.0.218) (1.0.0)\n",
      "Installing collected packages: langsmith, cassio, langchain\n",
      "  Attempting uninstall: cassio\n",
      "    Found existing installation: cassio 0.0.4\n",
      "    Uninstalling cassio-0.0.4:\n",
      "      Successfully uninstalled cassio-0.0.4\n",
      "  Attempting uninstall: langchain\n",
      "    Found existing installation: langchain 0.0.180\n",
      "    Uninstalling langchain-0.0.180:\n",
      "      Successfully uninstalled langchain-0.0.180\n",
      "Successfully installed cassio-0.0.7 langchain-0.0.240 langsmith-0.0.14\n",
      "\n",
      "\u001b[1m[\u001b[0m\u001b[34;49mnotice\u001b[0m\u001b[1;39;49m]\u001b[0m\u001b[39;49m A new release of pip is available: \u001b[0m\u001b[31;49m23.1.2\u001b[0m\u001b[39;49m -> \u001b[0m\u001b[32;49m23.2.1\u001b[0m\n",
      "\u001b[1m[\u001b[0m\u001b[34;49mnotice\u001b[0m\u001b[1;39;49m]\u001b[0m\u001b[39;49m To update, run: \u001b[0m\u001b[32;49m/Library/Developer/CommandLineTools/usr/bin/python3 -m pip install --upgrade pip\u001b[0m\n"
     ]
    }
   ],
   "source": [
    "# install required dependencies\n",
    "! pip install \\\n",
    "    \"cassandra-driver>=3.28.0\" \\\n",
    "    \"openai==0.27.7\" \\\n",
    "    \"tiktoken==0.4.0\" \\\n",
    "    \"langchain>=0.0.218\" \\\n",
    "    \"cassio==0.0.7\""
   ]
  },
  {
   "cell_type": "markdown",
   "id": "ae20e0b5",
   "metadata": {
    "id": "ae20e0b5"
   },
   "source": [
    "# Imports"
   ]
  },
  {
   "cell_type": "code",
   "execution_count": 3,
   "id": "16f9f33a",
   "metadata": {
    "id": "16f9f33a"
   },
   "outputs": [
    {
     "ename": "ModuleNotFoundError",
     "evalue": "No module named 'google.colab'",
     "output_type": "error",
     "traceback": [
      "\u001b[0;31m---------------------------------------------------------------------------\u001b[0m",
      "\u001b[0;31mModuleNotFoundError\u001b[0m                       Traceback (most recent call last)",
      "\u001b[0;32m/var/folders/63/zk0q8jh54_zfv293qrv7nyxr0000gp/T/ipykernel_5150/4074932428.py\u001b[0m in \u001b[0;36m<cell line: 7>\u001b[0;34m()\u001b[0m\n\u001b[1;32m      5\u001b[0m \u001b[0;32mfrom\u001b[0m \u001b[0mcassandra\u001b[0m\u001b[0;34m.\u001b[0m\u001b[0mcluster\u001b[0m \u001b[0;32mimport\u001b[0m \u001b[0mCluster\u001b[0m\u001b[0;34m\u001b[0m\u001b[0;34m\u001b[0m\u001b[0m\n\u001b[1;32m      6\u001b[0m \u001b[0;32mfrom\u001b[0m \u001b[0mcassandra\u001b[0m\u001b[0;34m.\u001b[0m\u001b[0mauth\u001b[0m \u001b[0;32mimport\u001b[0m \u001b[0mPlainTextAuthProvider\u001b[0m\u001b[0;34m\u001b[0m\u001b[0;34m\u001b[0m\u001b[0m\n\u001b[0;32m----> 7\u001b[0;31m \u001b[0;32mfrom\u001b[0m \u001b[0mgoogle\u001b[0m\u001b[0;34m.\u001b[0m\u001b[0mcolab\u001b[0m \u001b[0;32mimport\u001b[0m \u001b[0mfiles\u001b[0m\u001b[0;34m\u001b[0m\u001b[0;34m\u001b[0m\u001b[0m\n\u001b[0m",
      "\u001b[0;31mModuleNotFoundError\u001b[0m: No module named 'google.colab'"
     ]
    }
   ],
   "source": [
    "# Imports for our environment and accessing Astra DB\n",
    "import os\n",
    "\n",
    "import getpass\n",
    "from cassandra.cluster import Cluster\n",
    "from cassandra.auth import PlainTextAuthProvider\n",
    "from google.colab import files"
   ]
  },
  {
   "cell_type": "markdown",
   "id": "4df2888e",
   "metadata": {
    "id": "4df2888e"
   },
   "source": [
    "# Astra DB configuration, connection bundle and token secrets\n",
    "\n",
    "You will need a secure connect bundle and a user with access permission. For demo purposes the \"administrator\" role will work fine.\n",
    "More information about how to get the bundle can be found [here](https://docs.datastax.com/en/astra-serverless/docs/connect/secure-connect-bundle.html)."
   ]
  },
  {
   "cell_type": "code",
   "execution_count": 3,
   "id": "QvY0HTqm3chY",
   "metadata": {
    "colab": {
     "base_uri": "https://localhost:8080/",
     "height": 90
    },
    "id": "QvY0HTqm3chY",
    "outputId": "b77ce836-928b-47dd-b87b-6ca73fb3ec5b"
   },
   "outputs": [
    {
     "name": "stdout",
     "output_type": "stream",
     "text": [
      "Please upload your Secure Connect Bundle\n"
     ]
    },
    {
     "data": {
      "text/html": [
       "\n",
       "     <input type=\"file\" id=\"files-2f7e0fbe-d3a2-46a4-9837-b33f6e1b4626\" name=\"files[]\" multiple disabled\n",
       "        style=\"border:none\" />\n",
       "     <output id=\"result-2f7e0fbe-d3a2-46a4-9837-b33f6e1b4626\">\n",
       "      Upload widget is only available when the cell has been executed in the\n",
       "      current browser session. Please rerun this cell to enable.\n",
       "      </output>\n",
       "      <script>// Copyright 2017 Google LLC\n",
       "//\n",
       "// Licensed under the Apache License, Version 2.0 (the \"License\");\n",
       "// you may not use this file except in compliance with the License.\n",
       "// You may obtain a copy of the License at\n",
       "//\n",
       "//      http://www.apache.org/licenses/LICENSE-2.0\n",
       "//\n",
       "// Unless required by applicable law or agreed to in writing, software\n",
       "// distributed under the License is distributed on an \"AS IS\" BASIS,\n",
       "// WITHOUT WARRANTIES OR CONDITIONS OF ANY KIND, either express or implied.\n",
       "// See the License for the specific language governing permissions and\n",
       "// limitations under the License.\n",
       "\n",
       "/**\n",
       " * @fileoverview Helpers for google.colab Python module.\n",
       " */\n",
       "(function(scope) {\n",
       "function span(text, styleAttributes = {}) {\n",
       "  const element = document.createElement('span');\n",
       "  element.textContent = text;\n",
       "  for (const key of Object.keys(styleAttributes)) {\n",
       "    element.style[key] = styleAttributes[key];\n",
       "  }\n",
       "  return element;\n",
       "}\n",
       "\n",
       "// Max number of bytes which will be uploaded at a time.\n",
       "const MAX_PAYLOAD_SIZE = 100 * 1024;\n",
       "\n",
       "function _uploadFiles(inputId, outputId) {\n",
       "  const steps = uploadFilesStep(inputId, outputId);\n",
       "  const outputElement = document.getElementById(outputId);\n",
       "  // Cache steps on the outputElement to make it available for the next call\n",
       "  // to uploadFilesContinue from Python.\n",
       "  outputElement.steps = steps;\n",
       "\n",
       "  return _uploadFilesContinue(outputId);\n",
       "}\n",
       "\n",
       "// This is roughly an async generator (not supported in the browser yet),\n",
       "// where there are multiple asynchronous steps and the Python side is going\n",
       "// to poll for completion of each step.\n",
       "// This uses a Promise to block the python side on completion of each step,\n",
       "// then passes the result of the previous step as the input to the next step.\n",
       "function _uploadFilesContinue(outputId) {\n",
       "  const outputElement = document.getElementById(outputId);\n",
       "  const steps = outputElement.steps;\n",
       "\n",
       "  const next = steps.next(outputElement.lastPromiseValue);\n",
       "  return Promise.resolve(next.value.promise).then((value) => {\n",
       "    // Cache the last promise value to make it available to the next\n",
       "    // step of the generator.\n",
       "    outputElement.lastPromiseValue = value;\n",
       "    return next.value.response;\n",
       "  });\n",
       "}\n",
       "\n",
       "/**\n",
       " * Generator function which is called between each async step of the upload\n",
       " * process.\n",
       " * @param {string} inputId Element ID of the input file picker element.\n",
       " * @param {string} outputId Element ID of the output display.\n",
       " * @return {!Iterable<!Object>} Iterable of next steps.\n",
       " */\n",
       "function* uploadFilesStep(inputId, outputId) {\n",
       "  const inputElement = document.getElementById(inputId);\n",
       "  inputElement.disabled = false;\n",
       "\n",
       "  const outputElement = document.getElementById(outputId);\n",
       "  outputElement.innerHTML = '';\n",
       "\n",
       "  const pickedPromise = new Promise((resolve) => {\n",
       "    inputElement.addEventListener('change', (e) => {\n",
       "      resolve(e.target.files);\n",
       "    });\n",
       "  });\n",
       "\n",
       "  const cancel = document.createElement('button');\n",
       "  inputElement.parentElement.appendChild(cancel);\n",
       "  cancel.textContent = 'Cancel upload';\n",
       "  const cancelPromise = new Promise((resolve) => {\n",
       "    cancel.onclick = () => {\n",
       "      resolve(null);\n",
       "    };\n",
       "  });\n",
       "\n",
       "  // Wait for the user to pick the files.\n",
       "  const files = yield {\n",
       "    promise: Promise.race([pickedPromise, cancelPromise]),\n",
       "    response: {\n",
       "      action: 'starting',\n",
       "    }\n",
       "  };\n",
       "\n",
       "  cancel.remove();\n",
       "\n",
       "  // Disable the input element since further picks are not allowed.\n",
       "  inputElement.disabled = true;\n",
       "\n",
       "  if (!files) {\n",
       "    return {\n",
       "      response: {\n",
       "        action: 'complete',\n",
       "      }\n",
       "    };\n",
       "  }\n",
       "\n",
       "  for (const file of files) {\n",
       "    const li = document.createElement('li');\n",
       "    li.append(span(file.name, {fontWeight: 'bold'}));\n",
       "    li.append(span(\n",
       "        `(${file.type || 'n/a'}) - ${file.size} bytes, ` +\n",
       "        `last modified: ${\n",
       "            file.lastModifiedDate ? file.lastModifiedDate.toLocaleDateString() :\n",
       "                                    'n/a'} - `));\n",
       "    const percent = span('0% done');\n",
       "    li.appendChild(percent);\n",
       "\n",
       "    outputElement.appendChild(li);\n",
       "\n",
       "    const fileDataPromise = new Promise((resolve) => {\n",
       "      const reader = new FileReader();\n",
       "      reader.onload = (e) => {\n",
       "        resolve(e.target.result);\n",
       "      };\n",
       "      reader.readAsArrayBuffer(file);\n",
       "    });\n",
       "    // Wait for the data to be ready.\n",
       "    let fileData = yield {\n",
       "      promise: fileDataPromise,\n",
       "      response: {\n",
       "        action: 'continue',\n",
       "      }\n",
       "    };\n",
       "\n",
       "    // Use a chunked sending to avoid message size limits. See b/62115660.\n",
       "    let position = 0;\n",
       "    do {\n",
       "      const length = Math.min(fileData.byteLength - position, MAX_PAYLOAD_SIZE);\n",
       "      const chunk = new Uint8Array(fileData, position, length);\n",
       "      position += length;\n",
       "\n",
       "      const base64 = btoa(String.fromCharCode.apply(null, chunk));\n",
       "      yield {\n",
       "        response: {\n",
       "          action: 'append',\n",
       "          file: file.name,\n",
       "          data: base64,\n",
       "        },\n",
       "      };\n",
       "\n",
       "      let percentDone = fileData.byteLength === 0 ?\n",
       "          100 :\n",
       "          Math.round((position / fileData.byteLength) * 100);\n",
       "      percent.textContent = `${percentDone}% done`;\n",
       "\n",
       "    } while (position < fileData.byteLength);\n",
       "  }\n",
       "\n",
       "  // All done.\n",
       "  yield {\n",
       "    response: {\n",
       "      action: 'complete',\n",
       "    }\n",
       "  };\n",
       "}\n",
       "\n",
       "scope.google = scope.google || {};\n",
       "scope.google.colab = scope.google.colab || {};\n",
       "scope.google.colab._files = {\n",
       "  _uploadFiles,\n",
       "  _uploadFilesContinue,\n",
       "};\n",
       "})(self);\n",
       "</script> "
      ],
      "text/plain": [
       "<IPython.core.display.HTML object>"
      ]
     },
     "metadata": {},
     "output_type": "display_data"
    },
    {
     "name": "stdout",
     "output_type": "stream",
     "text": [
      "Saving secure-connect-documentation.zip to secure-connect-documentation (1).zip\n"
     ]
    }
   ],
   "source": [
    "#upload secure connect bundle\n",
    "print('Please upload your Secure Connect Bundle')\n",
    "uploaded = files.upload()\n",
    "if uploaded:\n",
    "    astraBundleFileTitle = list(uploaded.keys())[0]\n",
    "    SECURE_CONNECT_BUNDLE_PATH = os.path.join(os.getcwd(), astraBundleFileTitle)\n",
    "else:\n",
    "    raise ValueError(\n",
    "        'Cannot proceed without Secure Connect Bundle. Please re-run the cell.'\n",
    "    )\n",
    "#Alternatively upload to the environment and reference it here\n",
    "#SECURE_CONNECT_BUNDLE_PATH = '/content/secure-connect-documentation.zip'\n"
   ]
  },
  {
   "cell_type": "code",
   "execution_count": 5,
   "id": "39b4b87b",
   "metadata": {
    "colab": {
     "base_uri": "https://localhost:8080/"
    },
    "id": "39b4b87b",
    "outputId": "5b995ecf-0670-48a1-86a7-a7efd2412def"
   },
   "outputs": [
    {
     "name": "stdout",
     "output_type": "stream",
     "text": [
      "What Astra DB token username do you want to use? ··········\n"
     ]
    }
   ],
   "source": [
    "ASTRA_DB_TOKEN_BASED_USERNAME = getpass.getpass('What Astra DB token username do you want to use? ')\n",
    "#ASTRA_DB_TOKEN_BASED_USERNAME = '<<ENTER>>'"
   ]
  },
  {
   "cell_type": "code",
   "execution_count": 4,
   "id": "38EAz0Kupms-",
   "metadata": {
    "colab": {
     "base_uri": "https://localhost:8080/"
    },
    "id": "38EAz0Kupms-",
    "outputId": "25e09f79-bab9-4347-c4dd-123f0128858d"
   },
   "outputs": [
    {
     "name": "stdout",
     "output_type": "stream",
     "text": [
      "What Astra DB token password do you want to use? ··········\n"
     ]
    }
   ],
   "source": [
    "ASTRA_DB_TOKEN_BASED_PASSWORD = getpass.getpass('What Astra DB token password do you want to use? ')\n",
    "#ASTRA_DB_TOKEN_BASED_PASSWORD = '<<ENTER>>'"
   ]
  },
  {
   "cell_type": "code",
   "execution_count": 6,
   "id": "YZqO7R66hmMU",
   "metadata": {
    "colab": {
     "base_uri": "https://localhost:8080/"
    },
    "id": "YZqO7R66hmMU",
    "outputId": "3b51d96c-9b6e-49f5-841b-d38549624f8d"
   },
   "outputs": [
    {
     "name": "stdout",
     "output_type": "stream",
     "text": [
      "Which Astra DB keypsace do you want to use? mykeyspace\n"
     ]
    }
   ],
   "source": [
    "ASTRA_DB_KEYSPACE = input(f'Which Astra DB keypsace do you want to use? ')\n",
    "#ASTRA_DB_KEYSPACE = 'mykeyspace'"
   ]
  },
  {
   "cell_type": "markdown",
   "id": "tyZ1IC4d3U15",
   "metadata": {
    "id": "tyZ1IC4d3U15"
   },
   "source": [
    "# Provide Sample Data\n",
    "If you want to provide some docoments, you can upload them here.\n",
    "As a sample document you can also download some text here:"
   ]
  },
  {
   "cell_type": "code",
   "execution_count": 21,
   "id": "1VsVGojG663U",
   "metadata": {
    "colab": {
     "base_uri": "https://localhost:8080/"
    },
    "id": "1VsVGojG663U",
    "outputId": "29ec5d63-26bb-4680-ffff-146c6876e19d"
   },
   "outputs": [
    {
     "name": "stdout",
     "output_type": "stream",
     "text": [
      "  % Total    % Received % Xferd  Average Speed   Time    Time     Time  Current\n",
      "                                 Dload  Upload   Total   Spent    Left  Speed\n",
      "\r",
      "  0     0    0     0    0     0      0      0 --:--:-- --:--:-- --:--:--     0\r",
      "100 13022  100 13022    0     0   167k      0 --:--:-- --:--:-- --:--:--  167k\n"
     ]
    }
   ],
   "source": [
    "# retrieve the text of a short story that will be indexed in the vector store\n",
    "! curl https://raw.githubusercontent.com/difli/astra_vsearch_QA_for_documents/main/usa.txt --output usa.txt\n",
    "SAMPLEDATA_PATH=\"usa.txt\""
   ]
  },
  {
   "cell_type": "code",
   "execution_count": 19,
   "id": "PjxwchCO3n_8",
   "metadata": {
    "colab": {
     "base_uri": "https://localhost:8080/",
     "height": 90
    },
    "id": "PjxwchCO3n_8",
    "outputId": "b795a9ac-59bb-4f2b-9ac5-965579770545"
   },
   "outputs": [
    {
     "name": "stdout",
     "output_type": "stream",
     "text": [
      "Please upload your own sample file:\n"
     ]
    },
    {
     "data": {
      "text/html": [
       "\n",
       "     <input type=\"file\" id=\"files-d844345b-6477-4a61-b8fb-15dbba5e2c8f\" name=\"files[]\" multiple disabled\n",
       "        style=\"border:none\" />\n",
       "     <output id=\"result-d844345b-6477-4a61-b8fb-15dbba5e2c8f\">\n",
       "      Upload widget is only available when the cell has been executed in the\n",
       "      current browser session. Please rerun this cell to enable.\n",
       "      </output>\n",
       "      <script>// Copyright 2017 Google LLC\n",
       "//\n",
       "// Licensed under the Apache License, Version 2.0 (the \"License\");\n",
       "// you may not use this file except in compliance with the License.\n",
       "// You may obtain a copy of the License at\n",
       "//\n",
       "//      http://www.apache.org/licenses/LICENSE-2.0\n",
       "//\n",
       "// Unless required by applicable law or agreed to in writing, software\n",
       "// distributed under the License is distributed on an \"AS IS\" BASIS,\n",
       "// WITHOUT WARRANTIES OR CONDITIONS OF ANY KIND, either express or implied.\n",
       "// See the License for the specific language governing permissions and\n",
       "// limitations under the License.\n",
       "\n",
       "/**\n",
       " * @fileoverview Helpers for google.colab Python module.\n",
       " */\n",
       "(function(scope) {\n",
       "function span(text, styleAttributes = {}) {\n",
       "  const element = document.createElement('span');\n",
       "  element.textContent = text;\n",
       "  for (const key of Object.keys(styleAttributes)) {\n",
       "    element.style[key] = styleAttributes[key];\n",
       "  }\n",
       "  return element;\n",
       "}\n",
       "\n",
       "// Max number of bytes which will be uploaded at a time.\n",
       "const MAX_PAYLOAD_SIZE = 100 * 1024;\n",
       "\n",
       "function _uploadFiles(inputId, outputId) {\n",
       "  const steps = uploadFilesStep(inputId, outputId);\n",
       "  const outputElement = document.getElementById(outputId);\n",
       "  // Cache steps on the outputElement to make it available for the next call\n",
       "  // to uploadFilesContinue from Python.\n",
       "  outputElement.steps = steps;\n",
       "\n",
       "  return _uploadFilesContinue(outputId);\n",
       "}\n",
       "\n",
       "// This is roughly an async generator (not supported in the browser yet),\n",
       "// where there are multiple asynchronous steps and the Python side is going\n",
       "// to poll for completion of each step.\n",
       "// This uses a Promise to block the python side on completion of each step,\n",
       "// then passes the result of the previous step as the input to the next step.\n",
       "function _uploadFilesContinue(outputId) {\n",
       "  const outputElement = document.getElementById(outputId);\n",
       "  const steps = outputElement.steps;\n",
       "\n",
       "  const next = steps.next(outputElement.lastPromiseValue);\n",
       "  return Promise.resolve(next.value.promise).then((value) => {\n",
       "    // Cache the last promise value to make it available to the next\n",
       "    // step of the generator.\n",
       "    outputElement.lastPromiseValue = value;\n",
       "    return next.value.response;\n",
       "  });\n",
       "}\n",
       "\n",
       "/**\n",
       " * Generator function which is called between each async step of the upload\n",
       " * process.\n",
       " * @param {string} inputId Element ID of the input file picker element.\n",
       " * @param {string} outputId Element ID of the output display.\n",
       " * @return {!Iterable<!Object>} Iterable of next steps.\n",
       " */\n",
       "function* uploadFilesStep(inputId, outputId) {\n",
       "  const inputElement = document.getElementById(inputId);\n",
       "  inputElement.disabled = false;\n",
       "\n",
       "  const outputElement = document.getElementById(outputId);\n",
       "  outputElement.innerHTML = '';\n",
       "\n",
       "  const pickedPromise = new Promise((resolve) => {\n",
       "    inputElement.addEventListener('change', (e) => {\n",
       "      resolve(e.target.files);\n",
       "    });\n",
       "  });\n",
       "\n",
       "  const cancel = document.createElement('button');\n",
       "  inputElement.parentElement.appendChild(cancel);\n",
       "  cancel.textContent = 'Cancel upload';\n",
       "  const cancelPromise = new Promise((resolve) => {\n",
       "    cancel.onclick = () => {\n",
       "      resolve(null);\n",
       "    };\n",
       "  });\n",
       "\n",
       "  // Wait for the user to pick the files.\n",
       "  const files = yield {\n",
       "    promise: Promise.race([pickedPromise, cancelPromise]),\n",
       "    response: {\n",
       "      action: 'starting',\n",
       "    }\n",
       "  };\n",
       "\n",
       "  cancel.remove();\n",
       "\n",
       "  // Disable the input element since further picks are not allowed.\n",
       "  inputElement.disabled = true;\n",
       "\n",
       "  if (!files) {\n",
       "    return {\n",
       "      response: {\n",
       "        action: 'complete',\n",
       "      }\n",
       "    };\n",
       "  }\n",
       "\n",
       "  for (const file of files) {\n",
       "    const li = document.createElement('li');\n",
       "    li.append(span(file.name, {fontWeight: 'bold'}));\n",
       "    li.append(span(\n",
       "        `(${file.type || 'n/a'}) - ${file.size} bytes, ` +\n",
       "        `last modified: ${\n",
       "            file.lastModifiedDate ? file.lastModifiedDate.toLocaleDateString() :\n",
       "                                    'n/a'} - `));\n",
       "    const percent = span('0% done');\n",
       "    li.appendChild(percent);\n",
       "\n",
       "    outputElement.appendChild(li);\n",
       "\n",
       "    const fileDataPromise = new Promise((resolve) => {\n",
       "      const reader = new FileReader();\n",
       "      reader.onload = (e) => {\n",
       "        resolve(e.target.result);\n",
       "      };\n",
       "      reader.readAsArrayBuffer(file);\n",
       "    });\n",
       "    // Wait for the data to be ready.\n",
       "    let fileData = yield {\n",
       "      promise: fileDataPromise,\n",
       "      response: {\n",
       "        action: 'continue',\n",
       "      }\n",
       "    };\n",
       "\n",
       "    // Use a chunked sending to avoid message size limits. See b/62115660.\n",
       "    let position = 0;\n",
       "    do {\n",
       "      const length = Math.min(fileData.byteLength - position, MAX_PAYLOAD_SIZE);\n",
       "      const chunk = new Uint8Array(fileData, position, length);\n",
       "      position += length;\n",
       "\n",
       "      const base64 = btoa(String.fromCharCode.apply(null, chunk));\n",
       "      yield {\n",
       "        response: {\n",
       "          action: 'append',\n",
       "          file: file.name,\n",
       "          data: base64,\n",
       "        },\n",
       "      };\n",
       "\n",
       "      let percentDone = fileData.byteLength === 0 ?\n",
       "          100 :\n",
       "          Math.round((position / fileData.byteLength) * 100);\n",
       "      percent.textContent = `${percentDone}% done`;\n",
       "\n",
       "    } while (position < fileData.byteLength);\n",
       "  }\n",
       "\n",
       "  // All done.\n",
       "  yield {\n",
       "    response: {\n",
       "      action: 'complete',\n",
       "    }\n",
       "  };\n",
       "}\n",
       "\n",
       "scope.google = scope.google || {};\n",
       "scope.google.colab = scope.google.colab || {};\n",
       "scope.google.colab._files = {\n",
       "  _uploadFiles,\n",
       "  _uploadFilesContinue,\n",
       "};\n",
       "})(self);\n",
       "</script> "
      ],
      "text/plain": [
       "<IPython.core.display.HTML object>"
      ]
     },
     "metadata": {},
     "output_type": "display_data"
    },
    {
     "name": "stdout",
     "output_type": "stream",
     "text": [
      "Saving Customer_Case_Study_eBay.pdf to Customer_Case_Study_eBay.pdf\n"
     ]
    }
   ],
   "source": [
    "# Alternatively you can provide your own file - please consider to customize the queries at the end of the notebook to match your content.\n",
    "#provide some sample files\n",
    "print('Please upload your own sample file:')\n",
    "uploaded = files.upload()\n",
    "if uploaded:\n",
    "    sampleDataFileTitle = list(uploaded.keys())[0]\n",
    "    SAMPLEDATA_PATH = os.path.join(os.getcwd(), sampleDataFileTitle)\n",
    "else:\n",
    "    raise ValueError(\n",
    "        'Cannot proceed without Sample Data. Please re-run the cell.'\n",
    "    )"
   ]
  },
  {
   "cell_type": "markdown",
   "id": "33e090e7",
   "metadata": {
    "id": "33e090e7"
   },
   "source": [
    "# Connect to Astra DB"
   ]
  },
  {
   "cell_type": "code",
   "execution_count": 8,
   "id": "e8c527a1",
   "metadata": {
    "colab": {
     "base_uri": "https://localhost:8080/"
    },
    "id": "e8c527a1",
    "outputId": "a344699a-eaa1-4353-f768-308b64101493"
   },
   "outputs": [
    {
     "name": "stderr",
     "output_type": "stream",
     "text": [
      "WARNING:cassandra.cluster:Downgrading core protocol version from 66 to 65 for cfe0851c-36a8-420c-9b15-ac1200c177c7-us-east1.db.astra.datastax.com:29042:99a347cb-db8c-4304-bc7a-26bcda1ae254. To avoid this, it is best practice to explicitly set Cluster(protocol_version) to the version supported by your cluster. http://datastax.github.io/python-driver/api/cassandra/cluster.html#cassandra.cluster.Cluster.protocol_version\n",
      "WARNING:cassandra.cluster:Downgrading core protocol version from 65 to 5 for cfe0851c-36a8-420c-9b15-ac1200c177c7-us-east1.db.astra.datastax.com:29042:99a347cb-db8c-4304-bc7a-26bcda1ae254. To avoid this, it is best practice to explicitly set Cluster(protocol_version) to the version supported by your cluster. http://datastax.github.io/python-driver/api/cassandra/cluster.html#cassandra.cluster.Cluster.protocol_version\n",
      "ERROR:cassandra.connection:Closing connection <AsyncoreConnection(140422621884144) cfe0851c-36a8-420c-9b15-ac1200c177c7-us-east1.db.astra.datastax.com:29042:99a347cb-db8c-4304-bc7a-26bcda1ae254> due to protocol error: Error from server: code=000a [Protocol error] message=\"Beta version of the protocol used (5/v5-beta), but USE_BETA flag is unset\"\n",
      "WARNING:cassandra.cluster:Downgrading core protocol version from 5 to 4 for cfe0851c-36a8-420c-9b15-ac1200c177c7-us-east1.db.astra.datastax.com:29042:99a347cb-db8c-4304-bc7a-26bcda1ae254. To avoid this, it is best practice to explicitly set Cluster(protocol_version) to the version supported by your cluster. http://datastax.github.io/python-driver/api/cassandra/cluster.html#cassandra.cluster.Cluster.protocol_version\n"
     ]
    }
   ],
   "source": [
    "# make sure that you can connect to Astra DB - if you see errors, then have a look at the environment you configured earlier\n",
    "\n",
    "cloud_config = {\n",
    "   'secure_connect_bundle': SECURE_CONNECT_BUNDLE_PATH\n",
    "}\n",
    "auth_provider = PlainTextAuthProvider(ASTRA_DB_TOKEN_BASED_USERNAME, ASTRA_DB_TOKEN_BASED_PASSWORD)\n",
    "cluster = Cluster(cloud=cloud_config, auth_provider=auth_provider)\n",
    "#cluster = Cluster(cloud=cloud_config, auth_provider=auth_provider, allow_beta_protocol_version=True)\n",
    "#allow_beta_protocol_version()#'5/v5-beta';\n",
    "session = cluster.connect()"
   ]
  },
  {
   "cell_type": "markdown",
   "id": "8251382e",
   "metadata": {
    "id": "8251382e"
   },
   "source": [
    "# LLM Provider Setup\n",
    "CassIO seamlessly integrates with LangChain, offering Cassandra-specific tools for many tasks. In our example we will use vector stores, indexers, embeddings and queries.\n",
    "\n",
    "And we will use OpenAI for our LLM services. (See Pre-requisites on [cassio.org](https://cassio.org/start_here/#llm-access) for more details)."
   ]
  },
  {
   "cell_type": "code",
   "execution_count": 9,
   "id": "J5VPZclr6n67",
   "metadata": {
    "colab": {
     "base_uri": "https://localhost:8080/"
    },
    "id": "J5VPZclr6n67",
    "outputId": "72e00ea7-2099-44da-ee36-78d099399a87"
   },
   "outputs": [
    {
     "name": "stdout",
     "output_type": "stream",
     "text": [
      "Your secret for LLM provider OpenAI: ··········\n"
     ]
    }
   ],
   "source": [
    "# Set your secret(s) for LLM access:\n",
    "# we will use GPT embeddings, so please provide your OpenAI AKP Key\n",
    "apiSecret = getpass.getpass('Your secret for LLM provider OpenAI: ')\n",
    "#apiSecret = \"<<ENTER>>\"\n",
    "os.environ['OPENAI_API_KEY'] = apiSecret"
   ]
  },
  {
   "cell_type": "code",
   "execution_count": 22,
   "id": "TE5pZsfs7iPT",
   "metadata": {
    "colab": {
     "base_uri": "https://localhost:8080/"
    },
    "id": "TE5pZsfs7iPT",
    "outputId": "7d51ed8f-4d1f-440a-fc3c-b67410a7b902"
   },
   "outputs": [
    {
     "name": "stdout",
     "output_type": "stream",
     "text": [
      "Docs created, it has 16 elements\n"
     ]
    }
   ],
   "source": [
    "#Import the needed libraries and declare the LLM model\n",
    "import langchain\n",
    "from langchain.embeddings import OpenAIEmbeddings\n",
    "from langchain.text_splitter import CharacterTextSplitter\n",
    "from langchain.vectorstores import Cassandra\n",
    "from langchain.document_loaders import TextLoader\n",
    "\n",
    "# creation of the LLM resources\n",
    "embedding_function = OpenAIEmbeddings()\n",
    "\n",
    "# read the documents into a list called docs\n",
    "from langchain.document_loaders import TextLoader\n",
    "loader = TextLoader(SAMPLEDATA_PATH)\n",
    "documents = loader.load()\n",
    "text_splitter = CharacterTextSplitter(chunk_size=1000, chunk_overlap=0)\n",
    "docs = text_splitter.split_documents(documents)\n",
    "\n",
    "print(f'Docs created, it has {len(docs)} elements')"
   ]
  },
  {
   "cell_type": "markdown",
   "id": "ySowfxhDw3ee",
   "metadata": {
    "id": "ySowfxhDw3ee"
   },
   "source": [
    "#Define the Vector Store on Astra DB\n",
    "Langchain and Cassio will automatically create the needed tables and SAI in Astra DB for you. No worries about that configuration."
   ]
  },
  {
   "cell_type": "code",
   "execution_count": 14,
   "id": "PWC3Gu5yXHUP",
   "metadata": {
    "id": "PWC3Gu5yXHUP"
   },
   "outputs": [],
   "source": [
    "#define the table name to be used to store our embeddings, Cassio will create the objects in Astra DB for you.\n",
    "ASTRA_DB_TABLE_NAME = 'vdocuments'\n",
    "\n",
    "cassVStore = Cassandra.from_documents(\n",
    "    documents=docs,\n",
    "    embedding=embedding_function,\n",
    "    session=session,\n",
    "    keyspace=ASTRA_DB_KEYSPACE,\n",
    "    table_name=ASTRA_DB_TABLE_NAME,\n",
    ")"
   ]
  },
  {
   "cell_type": "code",
   "execution_count": 13,
   "id": "U-GWCC2cCHgF",
   "metadata": {
    "id": "U-GWCC2cCHgF"
   },
   "outputs": [],
   "source": [
    "# just in case this demo runs multiple times and you want to clean up, run this:\n",
    "cassVStore.clear()"
   ]
  },
  {
   "cell_type": "markdown",
   "id": "oTEglBjbaHDj",
   "metadata": {
    "id": "oTEglBjbaHDj"
   },
   "source": [
    "# Now Query the Data and execute some \"searches\" against it\n",
    "First we will start with a similarity search using the Vectorstore's implementation"
   ]
  },
  {
   "cell_type": "code",
   "execution_count": null,
   "id": "yaFkjaAnCIRw",
   "metadata": {
    "colab": {
     "base_uri": "https://localhost:8080/"
    },
    "id": "yaFkjaAnCIRw",
    "outputId": "c08d20d8-a3c7-4d1b-d1ab-b60d35157ada"
   },
   "outputs": [
    {
     "name": "stdout",
     "output_type": "stream",
     "text": [
      "\n",
      "## Document 0\n",
      "\n",
      "He turned towards me, and looked into my eyes with two filmy orbs that\n",
      "distilled the rheum of intoxication.\n",
      "\n",
      "\"Nitre?\" he asked, at length.\n",
      "\n",
      "\"Nitre,\" I replied.  \"How long have you had that cough?\"\n",
      "\n",
      "\"Ugh! ugh! ugh!--ugh! ugh! ugh!--ugh! ugh! ugh!--ugh! ugh! ugh!--ugh!\n",
      "ugh! ugh!\"\n",
      "\n",
      "My poor friend found it impossible to reply for many minutes.\n",
      "\n",
      "\"It is nothing,\" he said, at last.\n",
      "\n",
      "\"Come,\" I said, with decision, \"we will go back; your health is\n",
      "precious.  You are rich, respected, admired, beloved; you are happy, as\n",
      "once I was.  You are a man to be missed.  For me it is no matter.  We\n",
      "will go back; you will be ill, and I cannot be responsible.  Besides,\n",
      "there is Luchesi--\"\n",
      "\n",
      "\"Enough,\" he said; \"the cough is a mere nothing; it will not kill me.\n",
      "I shall not die of a cough.\"\n",
      "\n",
      "\"True--true,\" I replied; \"and, indeed, I had no intention of alarming\n",
      "you unnecessarily--but you should use all proper caution. A draught of\n",
      "this Medoc will defend us from the damps.\"\n",
      "\n",
      "## Document 1\n",
      "\n",
      "The wine sparkled in his eyes and the bells jingled.  My own fancy grew\n",
      "warm with the Medoc.  We had passed through walls of piled bones, with\n",
      "casks and puncheons intermingling, into the inmost recesses of\n",
      "catacombs.  I paused again, and this time I made bold to seize\n",
      "Fortunato by an arm above the elbow.\n",
      "\n",
      "\"The nitre!\" I said; \"see, it increases.  It hangs like moss upon the\n",
      "vaults.  We are below the river's bed.  The drops of moisture trickle\n",
      "among the bones.  Come, we will go back ere it is too late.  Your\n",
      "cough--\"\n",
      "\n",
      "\"It is nothing,\" he said; \"let us go on.  But first, another draught of\n",
      "the Medoc.\"\n",
      "\n",
      "I broke and reached him a flagon of De Grave.  He emptied it at a\n",
      "breath.  His eyes flashed with a fierce light.  He laughed and threw\n",
      "the bottle upwards with a gesticulation I did not understand.\n",
      "\n",
      "I looked at him in surprise.  He repeated the movement--a grotesque one.\n",
      "\n",
      "\"You do not comprehend?\" he said.\n",
      "\n",
      "\"Not I,\" I replied.\n",
      "\n",
      "\"Then you are not of the brotherhood.\"\n",
      "\n",
      "\"How?\"\n",
      "\n",
      "## Document 2\n",
      "\n",
      "\"As you are engaged, I am on my way to Luchesi.  If any one has a\n",
      "critical turn, it is he.  He will tell me--\"\n",
      "\n",
      "\"Luchesi cannot tell Amontillado from Sherry.\"\n",
      "\n",
      "\"And yet some fools will have it that his taste is a match for your\n",
      "own.\"\n",
      "\n",
      "\"Come, let us go.\"\n",
      "\n",
      "\"Whither?\"\n",
      "\n",
      "\"To your vaults.\"\n",
      "\n",
      "\"My friend, no; I will not impose upon your good nature.  I perceive\n",
      "you have an engagement.  Luchesi--\"\n",
      "\n",
      "\"I have no engagement;--come.\"\n",
      "\n",
      "\"My friend, no.  It is not the engagement, but the severe cold with\n",
      "which I perceive you are afflicted.  The vaults are insufferably damp.\n",
      "They are encrusted with nitre.\"\n",
      "\n",
      "\"Let us go, nevertheless.  The cold is merely nothing. Amontillado!\n",
      "You have been imposed upon.  And as for Luchesi, he cannot distinguish\n",
      "Sherry from Amontillado.\"\n",
      "\n",
      "Thus speaking, Fortunato possessed himself of my arm. Putting on a mask\n",
      "of black silk, and drawing a _roquelaire_ closely about my person, I\n",
      "suffered him to hurry me to my palazzo.\n",
      "\n",
      "## Document 3\n",
      "\n",
      "\"Proceed,\" I said; \"herein is the Amontillado.  As for Luchesi--\"\n",
      "\n",
      "\"He is an ignoramus,\" interrupted my friend, as he stepped unsteadily\n",
      "forward, while I followed immediately at his heels.  In an instant he\n",
      "had reached the extremity of the niche, and finding his progress\n",
      "arrested by the rock, stood stupidly bewildered.  A moment more and I\n",
      "had fettered him to the granite.  In its surface were two iron staples,\n",
      "distant from each other about two feet, horizontally.  From one of\n",
      "these depended a short chain, from the other a padlock.  Throwing the\n",
      "links about his waist, it was but the work of a few seconds to secure\n",
      "it.  He was too much astounded to resist.  Withdrawing the key I\n",
      "stepped back from the recess.\n",
      "\n",
      "\"Pass your hand,\" I said, \"over the wall; you cannot help feeling the\n",
      "nitre.  Indeed, it is _very_ damp.  Once more let me _implore_ you to\n",
      "return.  No?  Then I must positively leave you.  But I must first\n",
      "render you all the little attentions in my power.\"\n"
     ]
    }
   ],
   "source": [
    "# similarity search:\n",
    "prompt = \"Are there any active volcanos in the USA?\"\n",
    "\n",
    "# matched_docs is a list with the found documents from the similarity search\n",
    "matched_docs = cassVStore.similarity_search(prompt)\n",
    "# for each of the found documents, print the content\n",
    "for i, d in enumerate(matched_docs):\n",
    "    print(f\"\\n## Document {i}\\n\")\n",
    "    print(d.page_content)"
   ]
  },
  {
   "cell_type": "markdown",
   "id": "9cVulGW6aom5",
   "metadata": {
    "id": "9cVulGW6aom5"
   },
   "source": [
    "# Finally do a Q/A Search\n",
    "To be able implement question answering over documents we need to do these steps:\n",
    "\n",
    "1. Create an index on top of our Vector store\n",
    "2. Create a Retriever from that index\n",
    "3. Ask questions (promts)!\n",
    "\n",
    "\n",
    "A retriever is an interface that returns documents given an unstructured query. It is more general than a vector store. A retriever does not need to be able to store documents, only to return (or retrieve) it. Vector stores can be used as the backbone of a retriever.\n",
    "\n",
    "Hint: The query method is creating a chain using OpenAI document Search:\n",
    "\n",
    "        llm = llm or OpenAI(temperature=0)\n",
    "        chain = RetrievalQA.from_chain_type(\n",
    "            llm, retriever=self.vectorstore.as_retriever(), **kwargs\n",
    "        )"
   ]
  },
  {
   "cell_type": "code",
   "execution_count": null,
   "id": "cptnBJhCWTz0",
   "metadata": {
    "colab": {
     "base_uri": "https://localhost:8080/",
     "height": 35
    },
    "id": "cptnBJhCWTz0",
    "outputId": "ad34a8d3-e87b-40ce-ced5-c05bfaaa410d"
   },
   "outputs": [
    {
     "data": {
      "application/vnd.google.colaboratory.intrinsic+json": {
       "type": "string"
      },
      "text/plain": [
       "' Luchesi is a connoisseur of wine who cannot tell the difference between Amontillado and Sherry.'"
      ]
     },
     "execution_count": 16,
     "metadata": {},
     "output_type": "execute_result"
    }
   ],
   "source": [
    "# Q/A LLM Search\n",
    "from langchain.indexes.vectorstore import VectorStoreIndexWrapper\n",
    "index = VectorStoreIndexWrapper(vectorstore=cassVStore)\n",
    "\n",
    "# Search within the document context for some text related information.\n",
    "prompt = \"Are there any active volcanos in the USA?\"\n",
    "index.query(prompt)\n"
   ]
  },
  {
   "cell_type": "code",
   "execution_count": 18,
   "id": "kYz1Jdl1Qhuj",
   "metadata": {
    "colab": {
     "base_uri": "https://localhost:8080/",
     "height": 53
    },
    "id": "kYz1Jdl1Qhuj",
    "outputId": "5e776eb7-e0ee-4a1d-f4f6-95bd2eedec5f"
   },
   "outputs": [
    {
     "name": "stdout",
     "output_type": "stream",
     "text": [
      "Answer:\n"
     ]
    },
    {
     "data": {
      "application/vnd.google.colaboratory.intrinsic+json": {
       "type": "string"
      },
      "text/plain": [
       "' Luchesi is a man with a critical turn of mind who cannot distinguish Sherry from Amontillado.'"
      ]
     },
     "execution_count": 18,
     "metadata": {},
     "output_type": "execute_result"
    }
   ],
   "source": [
    "#Alternatively you can use a retrieval chain and some conversation history\n",
    "from langchain.chains import ConversationalRetrievalChain\n",
    "from langchain.memory import ConversationBufferMemory\n",
    "from langchain.llms import OpenAI\n",
    "#vectordb.persist()\n",
    "memory = ConversationBufferMemory(memory_key=\"chat_history\", return_messages=True)\n",
    "pdf_qa = ConversationalRetrievalChain.from_llm(OpenAI(temperature=0.8) , cassVStore.as_retriever(), memory=memory)\n",
    "\n",
    "\n",
    "query = \"Are there any active volcanos in the USA?\"\n",
    "result = pdf_qa({\"question\": query})\n",
    "print(\"Answer:\")\n",
    "result[\"answer\"]"
   ]
  },
  {
   "cell_type": "code",
   "execution_count": 1,
   "id": "9b3d6741",
   "metadata": {},
   "outputs": [
    {
     "ename": "NameError",
     "evalue": "name 'pdf_qa' is not defined",
     "output_type": "error",
     "traceback": [
      "\u001b[0;31m---------------------------------------------------------------------------\u001b[0m",
      "\u001b[0;31mNameError\u001b[0m                                 Traceback (most recent call last)",
      "\u001b[0;32m/var/folders/63/zk0q8jh54_zfv293qrv7nyxr0000gp/T/ipykernel_5150/3997952965.py\u001b[0m in \u001b[0;36m<cell line: 2>\u001b[0;34m()\u001b[0m\n\u001b[1;32m      1\u001b[0m \u001b[0mquery\u001b[0m \u001b[0;34m=\u001b[0m \u001b[0;34m\"Which documents do Germans require to enter the USA?\"\u001b[0m\u001b[0;34m\u001b[0m\u001b[0;34m\u001b[0m\u001b[0m\n\u001b[0;32m----> 2\u001b[0;31m \u001b[0mresult\u001b[0m \u001b[0;34m=\u001b[0m \u001b[0mpdf_qa\u001b[0m\u001b[0;34m(\u001b[0m\u001b[0;34m{\u001b[0m\u001b[0;34m\"question\"\u001b[0m\u001b[0;34m:\u001b[0m \u001b[0mquery\u001b[0m\u001b[0;34m}\u001b[0m\u001b[0;34m)\u001b[0m\u001b[0;34m\u001b[0m\u001b[0;34m\u001b[0m\u001b[0m\n\u001b[0m\u001b[1;32m      3\u001b[0m \u001b[0mprint\u001b[0m\u001b[0;34m(\u001b[0m\u001b[0;34m\"Answer:\"\u001b[0m\u001b[0;34m)\u001b[0m\u001b[0;34m\u001b[0m\u001b[0;34m\u001b[0m\u001b[0m\n\u001b[1;32m      4\u001b[0m \u001b[0mresult\u001b[0m\u001b[0;34m[\u001b[0m\u001b[0;34m\"answer\"\u001b[0m\u001b[0;34m]\u001b[0m\u001b[0;34m\u001b[0m\u001b[0;34m\u001b[0m\u001b[0m\n",
      "\u001b[0;31mNameError\u001b[0m: name 'pdf_qa' is not defined"
     ]
    }
   ],
   "source": [
    "query = \"Which documents do Germans require to enter the USA?\"\n",
    "result = pdf_qa({\"question\": query})\n",
    "print(\"Answer:\")\n",
    "result[\"answer\"]"
   ]
  },
  {
   "cell_type": "markdown",
   "id": "87dgg1pvzT1F",
   "metadata": {
    "id": "87dgg1pvzT1F"
   },
   "source": [
    "# Other Usefull stuff:  \n",
    "E.g. query the Vector Store to see what has been added to it and what happended with our documentation"
   ]
  },
  {
   "cell_type": "code",
   "execution_count": null,
   "id": "pepS7NSo9KRO",
   "metadata": {
    "colab": {
     "base_uri": "https://localhost:8080/"
    },
    "id": "pepS7NSo9KRO",
    "outputId": "4e5ea96d-7315-43dc-dfb6-6a567ddd81b5"
   },
   "outputs": [
    {
     "name": "stdout",
     "output_type": "stream",
     "text": [
      "\n",
      "Row 0:\n",
      "    document_id:      5b8cdf3f2b408e1ff0bb579f9bccdf49\n",
      "    embedding_vector: [-0.011264036409556866, 0.001750252558849752, 0.0090935109183192 ...\n",
      "    document:         \"Proceed,\" I said; \"herein is the Amontillado.  As for Luchesi-- ...\n",
      "    metadata_blob:    {\"source\": \"amontillado.txt\"}\n",
      "\n",
      "Row 1:\n",
      "    document_id:      547e0720483ee40210e0a20c260c715f\n",
      "    embedding_vector: [0.0037365714088082314, 0.006637827958911657, 0.0291225686669349 ...\n",
      "    document:         He turned towards me, and looked into my eyes with two filmy orb ...\n",
      "    metadata_blob:    {\"source\": \"amontillado.txt\"}\n",
      "\n",
      "Row 2:\n",
      "    document_id:      7a85f4c2107694d4d2f301590aa16d04\n",
      "    embedding_vector: [-0.00042468414176255465, -0.015043167397379875, 0.0231247935444 ...\n",
      "    document:         The wine sparkled in his eyes and the bells jingled.  My own fan ...\n",
      "    metadata_blob:    {\"source\": \"amontillado.txt\"}\n",
      "\n",
      "...\n"
     ]
    }
   ],
   "source": [
    "cqlSelect = f'SELECT * FROM {ASTRA_DB_KEYSPACE}.{ASTRA_DB_TABLE_NAME} LIMIT 3;'  # (Not a production-optimized query ...)\n",
    "rows = session.execute(cqlSelect)\n",
    "for row_i, row in enumerate(rows):\n",
    "    print(f'\\nRow {row_i}:')\n",
    "    print(f'    document_id:      {row.document_id}')\n",
    "    print(f'    embedding_vector: {str(row.embedding_vector)[:64]} ...')\n",
    "    print(f'    document:         {row.document[:64]} ...')\n",
    "    print(f'    metadata_blob:    {row.metadata_blob}')\n",
    "\n",
    "print('\\n...')"
   ]
  }
 ],
 "metadata": {
  "colab": {
   "include_colab_link": true,
   "provenance": []
  },
  "kernelspec": {
   "display_name": "Python 3 (ipykernel)",
   "language": "python",
   "name": "python3"
  },
  "language_info": {
   "codemirror_mode": {
    "name": "ipython",
    "version": 3
   },
   "file_extension": ".py",
   "mimetype": "text/x-python",
   "name": "python",
   "nbconvert_exporter": "python",
   "pygments_lexer": "ipython3",
   "version": "3.9.6"
  }
 },
 "nbformat": 4,
 "nbformat_minor": 5
}
