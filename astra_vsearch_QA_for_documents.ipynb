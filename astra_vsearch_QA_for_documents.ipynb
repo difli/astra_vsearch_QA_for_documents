{
  "cells": [
    {
      "cell_type": "markdown",
      "metadata": {
        "id": "view-in-github",
        "colab_type": "text"
      },
      "source": [
        "<a href=\"https://colab.research.google.com/github/pg-sys/astra_vsearch_QA_for_documents/blob/main/astra_vsearch_QA_for_documents.ipynb\" target=\"_parent\"><img src=\"https://colab.research.google.com/assets/colab-badge.svg\" alt=\"Open In Colab\"/></a>"
      ]
    },
    {
      "cell_type": "markdown",
      "metadata": {
        "id": "cf05e3f2"
      },
      "source": [
        "# astra-vsearch-QA-for-documents\n",
        "This demo guides you through setting up Astra DB with Vector Search, Cassio and Open AI to implement an generative Q&A for your own Documentation\n",
        "\n",
        "Jupyter notebook for generative Q&A for douments is powered by [Astra Vector Search](https://docs.datastax.com/en/astra-serverless/docs/vector-search/overview.html) and [OpenAI](https://github.com/openai/) and Casssio [Opensource LLM integration with Cassandra and Astra DB](https://cassio.org/).\n",
        "\n",
        "## Astra Vector Search\n",
        "Astra vector search enables developers to search a database by context or meaning rather than keywords or literal values. This is done by using “embeddings”. Embeddings are a type of representation used in machine learning where high-dimensional or complex data is mapped onto vectors in a lower-dimensional space. These vectors capture the semantic properties of the input data, meaning that similar data points have similar embeddings.\n",
        "Reference: [Astra Vector Search](https://docs.datastax.com/en/astra-serverless/docs/vector-search/overview.html)\n",
        "\n",
        "## CassIO\n",
        "CassIO is the ultimate solution for seamlessly integrating Apache Cassandra® with generative artificial intelligence and other machine learning workloads. This powerful Python library simplifies the complicated process of accessing the advanced features of the Cassandra database, including vector search capabilities. With CassIO, developers can fully concentrate on designing and perfecting their AI systems without any concerns regarding the complexities of integration with Cassandra.\n",
        "Reference [Cassio](https://cassio.org/)\n",
        "\n",
        "## OpenAI\n",
        "OpenAI provides various tools and resources to implement your own Document QA Search system. This includes pre-trained language models like GPT-3.5, which can understand and generate human-like text. Additionally, OpenAI offers guidelines and APIs to leverage their models for document search and question-answering tasks, enabling developers to build powerful and intelligent Document QA Search applications.\n",
        "Reference: [OpenAI](https://github.com/openai/)\n",
        "\n",
        "## Demo Summary\n",
        "ChatGPT excels at answering questions, but only on topics it remembers from its training data. It offers you a nice dialog interface to ask questions and get answers.\n",
        "\n",
        "But what do you do when you have your onw documents? How can you leverage the GenAI and LLM models to get insights in those?\n",
        "\n",
        "Think of an Q/A Bot that you want to provide to your customers for asking questions against the documentation of your products.\n",
        "\n",
        "For beeing able to do so, you have to implement your own ChatGPT-like solution.\n",
        "The implementation requires\n",
        "1. Analysing your existing documents and store the information\n",
        "2. Providing search capabilities for your questions to get answers\n",
        "\n",
        "This is solve by using a LLM models. Ideally you embedd the data as vectors and store them in a vector database and then use the LLM models on top of that database.\n",
        "\n",
        "This notebook demonstrates a two-step Search-Ask method for enabling GPT to answer questions using a library of reference on your onw documentations based on Astra DB vector search.\n",
        "\n",
        "\n"
      ],
      "id": "cf05e3f2"
    },
    {
      "cell_type": "markdown",
      "metadata": {
        "id": "651400d1"
      },
      "source": [
        "# Getting Started with this notebook\n",
        "\n",
        "These are prerequisites you need to to before running this notebook\n",
        "- Create a new vector search enabled database in Astra.\n",
        "- Create a keyspace\n",
        "- Create a token with permissions to create tables\n",
        "- Download your secure-connect-bundle.zip file\n",
        "- Create an OpenAI account and download an API Key\n",
        "\n",
        "- When you run this notebook, it will ask you for providing the secure-connect-bundle.zip, some text file and client ids, passwords as well as API Key"
      ],
      "id": "651400d1"
    },
    {
      "cell_type": "markdown",
      "metadata": {
        "id": "311cc2e9"
      },
      "source": [
        "# Setup\n",
        "\n",
        "This jupyter notebook was build on Colab. You need to install the following libraries."
      ],
      "id": "311cc2e9"
    },
    {
      "cell_type": "code",
      "execution_count": 1,
      "metadata": {
        "colab": {
          "base_uri": "https://localhost:8080/"
        },
        "id": "a6d88d66",
        "outputId": "817f6b32-38d1-489b-9c9a-ce44b763b70e"
      },
      "outputs": [
        {
          "output_type": "stream",
          "name": "stdout",
          "text": [
            "Looking in indexes: https://pypi.org/simple, https://us-python.pkg.dev/colab-wheels/public/simple/\n",
            "Collecting langchain\n",
            "  Cloning https://github.com/hemidactylus/langchain (to revision cassio) to /tmp/pip-install-6q8qlivp/langchain_72cf1b2f4a2343e1925b5be8cc4370f3\n",
            "  Running command git clone --filter=blob:none --quiet https://github.com/hemidactylus/langchain /tmp/pip-install-6q8qlivp/langchain_72cf1b2f4a2343e1925b5be8cc4370f3\n",
            "  Running command git checkout -b cassio --track origin/cassio\n",
            "  Switched to a new branch 'cassio'\n",
            "  Branch 'cassio' set up to track remote branch 'cassio' from 'origin'.\n",
            "  Resolved https://github.com/hemidactylus/langchain to commit caa62d2f2361b353c0dbfa144074b4d76545d611\n",
            "  Installing build dependencies ... \u001b[?25l\u001b[?25hdone\n",
            "  Getting requirements to build wheel ... \u001b[?25l\u001b[?25hdone\n",
            "  Preparing metadata (pyproject.toml) ... \u001b[?25l\u001b[?25hdone\n",
            "Collecting cassandra-driver>=3.28.0\n",
            "  Downloading cassandra_driver-3.28.0-cp310-cp310-manylinux_2_17_x86_64.manylinux2014_x86_64.whl (19.1 MB)\n",
            "\u001b[2K     \u001b[90m━━━━━━━━━━━━━━━━━━━━━━━━━━━━━━━━━━━━━━━━\u001b[0m \u001b[32m19.1/19.1 MB\u001b[0m \u001b[31m72.0 MB/s\u001b[0m eta \u001b[36m0:00:00\u001b[0m\n",
            "\u001b[?25hCollecting cassio>=0.0.4\n",
            "  Downloading cassio-0.0.5-py3-none-any.whl (11 kB)\n",
            "Collecting openai==0.27.7\n",
            "  Downloading openai-0.27.7-py3-none-any.whl (71 kB)\n",
            "\u001b[2K     \u001b[90m━━━━━━━━━━━━━━━━━━━━━━━━━━━━━━━━━━━━━━━━\u001b[0m \u001b[32m72.0/72.0 kB\u001b[0m \u001b[31m6.9 MB/s\u001b[0m eta \u001b[36m0:00:00\u001b[0m\n",
            "\u001b[?25hCollecting tiktoken==0.4.0\n",
            "  Downloading tiktoken-0.4.0-cp310-cp310-manylinux_2_17_x86_64.manylinux2014_x86_64.whl (1.7 MB)\n",
            "\u001b[2K     \u001b[90m━━━━━━━━━━━━━━━━━━━━━━━━━━━━━━━━━━━━━━━━\u001b[0m \u001b[32m1.7/1.7 MB\u001b[0m \u001b[31m75.8 MB/s\u001b[0m eta \u001b[36m0:00:00\u001b[0m\n",
            "\u001b[?25hRequirement already satisfied: requests>=2.20 in /usr/local/lib/python3.10/dist-packages (from openai==0.27.7) (2.27.1)\n",
            "Requirement already satisfied: tqdm in /usr/local/lib/python3.10/dist-packages (from openai==0.27.7) (4.65.0)\n",
            "Collecting aiohttp (from openai==0.27.7)\n",
            "  Downloading aiohttp-3.8.4-cp310-cp310-manylinux_2_17_x86_64.manylinux2014_x86_64.whl (1.0 MB)\n",
            "\u001b[2K     \u001b[90m━━━━━━━━━━━━━━━━━━━━━━━━━━━━━━━━━━━━━━━━\u001b[0m \u001b[32m1.0/1.0 MB\u001b[0m \u001b[31m50.0 MB/s\u001b[0m eta \u001b[36m0:00:00\u001b[0m\n",
            "\u001b[?25hRequirement already satisfied: regex>=2022.1.18 in /usr/local/lib/python3.10/dist-packages (from tiktoken==0.4.0) (2022.10.31)\n",
            "Requirement already satisfied: PyYAML>=5.4.1 in /usr/local/lib/python3.10/dist-packages (from langchain) (6.0)\n",
            "Requirement already satisfied: SQLAlchemy<3,>=1.4 in /usr/local/lib/python3.10/dist-packages (from langchain) (2.0.10)\n",
            "Collecting async-timeout<5.0.0,>=4.0.0 (from langchain)\n",
            "  Downloading async_timeout-4.0.2-py3-none-any.whl (5.8 kB)\n",
            "Collecting dataclasses-json<0.6.0,>=0.5.7 (from langchain)\n",
            "  Downloading dataclasses_json-0.5.8-py3-none-any.whl (26 kB)\n",
            "Requirement already satisfied: numexpr<3.0.0,>=2.8.4 in /usr/local/lib/python3.10/dist-packages (from langchain) (2.8.4)\n",
            "Requirement already satisfied: numpy<2,>=1 in /usr/local/lib/python3.10/dist-packages (from langchain) (1.22.4)\n",
            "Collecting openapi-schema-pydantic<2.0,>=1.2 (from langchain)\n",
            "  Downloading openapi_schema_pydantic-1.2.4-py3-none-any.whl (90 kB)\n",
            "\u001b[2K     \u001b[90m━━━━━━━━━━━━━━━━━━━━━━━━━━━━━━━━━━━━━━━━\u001b[0m \u001b[32m90.0/90.0 kB\u001b[0m \u001b[31m9.4 MB/s\u001b[0m eta \u001b[36m0:00:00\u001b[0m\n",
            "\u001b[?25hRequirement already satisfied: pydantic<2,>=1 in /usr/local/lib/python3.10/dist-packages (from langchain) (1.10.7)\n",
            "Requirement already satisfied: tenacity<9.0.0,>=8.1.0 in /usr/local/lib/python3.10/dist-packages (from langchain) (8.2.2)\n",
            "Requirement already satisfied: six>=1.9 in /usr/local/lib/python3.10/dist-packages (from cassandra-driver>=3.28.0) (1.16.0)\n",
            "Collecting geomet<0.3,>=0.1 (from cassandra-driver>=3.28.0)\n",
            "  Downloading geomet-0.2.1.post1-py3-none-any.whl (18 kB)\n",
            "Requirement already satisfied: attrs>=17.3.0 in /usr/local/lib/python3.10/dist-packages (from aiohttp->openai==0.27.7) (23.1.0)\n",
            "Requirement already satisfied: charset-normalizer<4.0,>=2.0 in /usr/local/lib/python3.10/dist-packages (from aiohttp->openai==0.27.7) (2.0.12)\n",
            "Collecting multidict<7.0,>=4.5 (from aiohttp->openai==0.27.7)\n",
            "  Downloading multidict-6.0.4-cp310-cp310-manylinux_2_17_x86_64.manylinux2014_x86_64.whl (114 kB)\n",
            "\u001b[2K     \u001b[90m━━━━━━━━━━━━━━━━━━━━━━━━━━━━━━━━━━━━━━\u001b[0m \u001b[32m114.5/114.5 kB\u001b[0m \u001b[31m12.1 MB/s\u001b[0m eta \u001b[36m0:00:00\u001b[0m\n",
            "\u001b[?25hCollecting yarl<2.0,>=1.0 (from aiohttp->openai==0.27.7)\n",
            "  Downloading yarl-1.9.2-cp310-cp310-manylinux_2_17_x86_64.manylinux2014_x86_64.whl (268 kB)\n",
            "\u001b[2K     \u001b[90m━━━━━━━━━━━━━━━━━━━━━━━━━━━━━━━━━━━━━━━\u001b[0m \u001b[32m268.8/268.8 kB\u001b[0m \u001b[31m1.6 MB/s\u001b[0m eta \u001b[36m0:00:00\u001b[0m\n",
            "\u001b[?25hCollecting frozenlist>=1.1.1 (from aiohttp->openai==0.27.7)\n",
            "  Downloading frozenlist-1.3.3-cp310-cp310-manylinux_2_5_x86_64.manylinux1_x86_64.manylinux_2_17_x86_64.manylinux2014_x86_64.whl (149 kB)\n",
            "\u001b[2K     \u001b[90m━━━━━━━━━━━━━━━━━━━━━━━━━━━━━━━━━━━━━━\u001b[0m \u001b[32m149.6/149.6 kB\u001b[0m \u001b[31m17.0 MB/s\u001b[0m eta \u001b[36m0:00:00\u001b[0m\n",
            "\u001b[?25hCollecting aiosignal>=1.1.2 (from aiohttp->openai==0.27.7)\n",
            "  Downloading aiosignal-1.3.1-py3-none-any.whl (7.6 kB)\n",
            "Collecting marshmallow<4.0.0,>=3.3.0 (from dataclasses-json<0.6.0,>=0.5.7->langchain)\n",
            "  Downloading marshmallow-3.19.0-py3-none-any.whl (49 kB)\n",
            "\u001b[2K     \u001b[90m━━━━━━━━━━━━━━━━━━━━━━━━━━━━━━━━━━━━━━━━\u001b[0m \u001b[32m49.1/49.1 kB\u001b[0m \u001b[31m4.8 MB/s\u001b[0m eta \u001b[36m0:00:00\u001b[0m\n",
            "\u001b[?25hCollecting marshmallow-enum<2.0.0,>=1.5.1 (from dataclasses-json<0.6.0,>=0.5.7->langchain)\n",
            "  Downloading marshmallow_enum-1.5.1-py2.py3-none-any.whl (4.2 kB)\n",
            "Collecting typing-inspect>=0.4.0 (from dataclasses-json<0.6.0,>=0.5.7->langchain)\n",
            "  Downloading typing_inspect-0.9.0-py3-none-any.whl (8.8 kB)\n",
            "Requirement already satisfied: click in /usr/local/lib/python3.10/dist-packages (from geomet<0.3,>=0.1->cassandra-driver>=3.28.0) (8.1.3)\n",
            "Requirement already satisfied: typing-extensions>=4.2.0 in /usr/local/lib/python3.10/dist-packages (from pydantic<2,>=1->langchain) (4.5.0)\n",
            "Requirement already satisfied: urllib3<1.27,>=1.21.1 in /usr/local/lib/python3.10/dist-packages (from requests>=2.20->openai==0.27.7) (1.26.15)\n",
            "Requirement already satisfied: certifi>=2017.4.17 in /usr/local/lib/python3.10/dist-packages (from requests>=2.20->openai==0.27.7) (2022.12.7)\n",
            "Requirement already satisfied: idna<4,>=2.5 in /usr/local/lib/python3.10/dist-packages (from requests>=2.20->openai==0.27.7) (3.4)\n",
            "Requirement already satisfied: greenlet!=0.4.17 in /usr/local/lib/python3.10/dist-packages (from SQLAlchemy<3,>=1.4->langchain) (2.0.2)\n",
            "Requirement already satisfied: packaging>=17.0 in /usr/local/lib/python3.10/dist-packages (from marshmallow<4.0.0,>=3.3.0->dataclasses-json<0.6.0,>=0.5.7->langchain) (23.1)\n",
            "Collecting mypy-extensions>=0.3.0 (from typing-inspect>=0.4.0->dataclasses-json<0.6.0,>=0.5.7->langchain)\n",
            "  Downloading mypy_extensions-1.0.0-py3-none-any.whl (4.7 kB)\n",
            "Building wheels for collected packages: langchain\n",
            "  Building wheel for langchain (pyproject.toml) ... \u001b[?25l\u001b[?25hdone\n",
            "  Created wheel for langchain: filename=langchain-0.0.180-py3-none-any.whl size=942622 sha256=cda0b0b85ecf624f3f7de48ec5aefe0905c1cc01dd6a34880c6a090b1fad4c1a\n",
            "  Stored in directory: /tmp/pip-ephem-wheel-cache-b5avake8/wheels/f2/61/76/20c0abc9178d20053cfd3fdf3e65cd431e170fa5436cf01145\n",
            "Successfully built langchain\n",
            "Installing collected packages: mypy-extensions, multidict, marshmallow, geomet, frozenlist, async-timeout, yarl, typing-inspect, tiktoken, openapi-schema-pydantic, marshmallow-enum, cassandra-driver, aiosignal, dataclasses-json, cassio, aiohttp, openai, langchain\n",
            "Successfully installed aiohttp-3.8.4 aiosignal-1.3.1 async-timeout-4.0.2 cassandra-driver-3.28.0 cassio-0.0.5 dataclasses-json-0.5.8 frozenlist-1.3.3 geomet-0.2.1.post1 langchain-0.0.180 marshmallow-3.19.0 marshmallow-enum-1.5.1 multidict-6.0.4 mypy-extensions-1.0.0 openai-0.27.7 openapi-schema-pydantic-1.2.4 tiktoken-0.4.0 typing-inspect-0.9.0 yarl-1.9.2\n"
          ]
        }
      ],
      "source": [
        "# install required dependencies\n",
        "! pip install \\\n",
        "    \"git+https://github.com/hemidactylus/langchain@cassio#egg=langchain\" \\\n",
        "    \"cassandra-driver>=3.28.0\" \\\n",
        "    \"cassio>=0.0.4\" \\\n",
        "    \"openai==0.27.7\" \\\n",
        "    \"tiktoken==0.4.0\""
      ],
      "id": "a6d88d66"
    },
    {
      "cell_type": "markdown",
      "metadata": {
        "id": "ae20e0b5"
      },
      "source": [
        "# Imports"
      ],
      "id": "ae20e0b5"
    },
    {
      "cell_type": "code",
      "execution_count": 2,
      "metadata": {
        "id": "16f9f33a"
      },
      "outputs": [],
      "source": [
        "# Imports for our environment and accessing Astra DB\n",
        "import os\n",
        "\n",
        "import getpass\n",
        "from cassandra.cluster import Cluster\n",
        "from cassandra.auth import PlainTextAuthProvider\n",
        "from google.colab import files"
      ],
      "id": "16f9f33a"
    },
    {
      "cell_type": "markdown",
      "metadata": {
        "id": "4df2888e"
      },
      "source": [
        "# Astra DB configuration, connection bundle and token secrets\n",
        "\n",
        "You will need a secure connect bundle and a user with access permission. For demo purposes the \"administrator\" role will work fine.\n",
        "More information about how to get the bundle can be found [here](https://docs.datastax.com/en/astra-serverless/docs/connect/secure-connect-bundle.html)."
      ],
      "id": "4df2888e"
    },
    {
      "cell_type": "code",
      "execution_count": 3,
      "metadata": {
        "colab": {
          "base_uri": "https://localhost:8080/",
          "height": 90
        },
        "id": "QvY0HTqm3chY",
        "outputId": "460bea61-bc19-4f45-c613-4dd803a93952"
      },
      "outputs": [
        {
          "output_type": "stream",
          "name": "stdout",
          "text": [
            "Please upload your Secure Connect Bundle\n"
          ]
        },
        {
          "output_type": "display_data",
          "data": {
            "text/plain": [
              "<IPython.core.display.HTML object>"
            ],
            "text/html": [
              "\n",
              "     <input type=\"file\" id=\"files-c05bb02b-f972-4182-8df2-4fae6ad1aac1\" name=\"files[]\" multiple disabled\n",
              "        style=\"border:none\" />\n",
              "     <output id=\"result-c05bb02b-f972-4182-8df2-4fae6ad1aac1\">\n",
              "      Upload widget is only available when the cell has been executed in the\n",
              "      current browser session. Please rerun this cell to enable.\n",
              "      </output>\n",
              "      <script>// Copyright 2017 Google LLC\n",
              "//\n",
              "// Licensed under the Apache License, Version 2.0 (the \"License\");\n",
              "// you may not use this file except in compliance with the License.\n",
              "// You may obtain a copy of the License at\n",
              "//\n",
              "//      http://www.apache.org/licenses/LICENSE-2.0\n",
              "//\n",
              "// Unless required by applicable law or agreed to in writing, software\n",
              "// distributed under the License is distributed on an \"AS IS\" BASIS,\n",
              "// WITHOUT WARRANTIES OR CONDITIONS OF ANY KIND, either express or implied.\n",
              "// See the License for the specific language governing permissions and\n",
              "// limitations under the License.\n",
              "\n",
              "/**\n",
              " * @fileoverview Helpers for google.colab Python module.\n",
              " */\n",
              "(function(scope) {\n",
              "function span(text, styleAttributes = {}) {\n",
              "  const element = document.createElement('span');\n",
              "  element.textContent = text;\n",
              "  for (const key of Object.keys(styleAttributes)) {\n",
              "    element.style[key] = styleAttributes[key];\n",
              "  }\n",
              "  return element;\n",
              "}\n",
              "\n",
              "// Max number of bytes which will be uploaded at a time.\n",
              "const MAX_PAYLOAD_SIZE = 100 * 1024;\n",
              "\n",
              "function _uploadFiles(inputId, outputId) {\n",
              "  const steps = uploadFilesStep(inputId, outputId);\n",
              "  const outputElement = document.getElementById(outputId);\n",
              "  // Cache steps on the outputElement to make it available for the next call\n",
              "  // to uploadFilesContinue from Python.\n",
              "  outputElement.steps = steps;\n",
              "\n",
              "  return _uploadFilesContinue(outputId);\n",
              "}\n",
              "\n",
              "// This is roughly an async generator (not supported in the browser yet),\n",
              "// where there are multiple asynchronous steps and the Python side is going\n",
              "// to poll for completion of each step.\n",
              "// This uses a Promise to block the python side on completion of each step,\n",
              "// then passes the result of the previous step as the input to the next step.\n",
              "function _uploadFilesContinue(outputId) {\n",
              "  const outputElement = document.getElementById(outputId);\n",
              "  const steps = outputElement.steps;\n",
              "\n",
              "  const next = steps.next(outputElement.lastPromiseValue);\n",
              "  return Promise.resolve(next.value.promise).then((value) => {\n",
              "    // Cache the last promise value to make it available to the next\n",
              "    // step of the generator.\n",
              "    outputElement.lastPromiseValue = value;\n",
              "    return next.value.response;\n",
              "  });\n",
              "}\n",
              "\n",
              "/**\n",
              " * Generator function which is called between each async step of the upload\n",
              " * process.\n",
              " * @param {string} inputId Element ID of the input file picker element.\n",
              " * @param {string} outputId Element ID of the output display.\n",
              " * @return {!Iterable<!Object>} Iterable of next steps.\n",
              " */\n",
              "function* uploadFilesStep(inputId, outputId) {\n",
              "  const inputElement = document.getElementById(inputId);\n",
              "  inputElement.disabled = false;\n",
              "\n",
              "  const outputElement = document.getElementById(outputId);\n",
              "  outputElement.innerHTML = '';\n",
              "\n",
              "  const pickedPromise = new Promise((resolve) => {\n",
              "    inputElement.addEventListener('change', (e) => {\n",
              "      resolve(e.target.files);\n",
              "    });\n",
              "  });\n",
              "\n",
              "  const cancel = document.createElement('button');\n",
              "  inputElement.parentElement.appendChild(cancel);\n",
              "  cancel.textContent = 'Cancel upload';\n",
              "  const cancelPromise = new Promise((resolve) => {\n",
              "    cancel.onclick = () => {\n",
              "      resolve(null);\n",
              "    };\n",
              "  });\n",
              "\n",
              "  // Wait for the user to pick the files.\n",
              "  const files = yield {\n",
              "    promise: Promise.race([pickedPromise, cancelPromise]),\n",
              "    response: {\n",
              "      action: 'starting',\n",
              "    }\n",
              "  };\n",
              "\n",
              "  cancel.remove();\n",
              "\n",
              "  // Disable the input element since further picks are not allowed.\n",
              "  inputElement.disabled = true;\n",
              "\n",
              "  if (!files) {\n",
              "    return {\n",
              "      response: {\n",
              "        action: 'complete',\n",
              "      }\n",
              "    };\n",
              "  }\n",
              "\n",
              "  for (const file of files) {\n",
              "    const li = document.createElement('li');\n",
              "    li.append(span(file.name, {fontWeight: 'bold'}));\n",
              "    li.append(span(\n",
              "        `(${file.type || 'n/a'}) - ${file.size} bytes, ` +\n",
              "        `last modified: ${\n",
              "            file.lastModifiedDate ? file.lastModifiedDate.toLocaleDateString() :\n",
              "                                    'n/a'} - `));\n",
              "    const percent = span('0% done');\n",
              "    li.appendChild(percent);\n",
              "\n",
              "    outputElement.appendChild(li);\n",
              "\n",
              "    const fileDataPromise = new Promise((resolve) => {\n",
              "      const reader = new FileReader();\n",
              "      reader.onload = (e) => {\n",
              "        resolve(e.target.result);\n",
              "      };\n",
              "      reader.readAsArrayBuffer(file);\n",
              "    });\n",
              "    // Wait for the data to be ready.\n",
              "    let fileData = yield {\n",
              "      promise: fileDataPromise,\n",
              "      response: {\n",
              "        action: 'continue',\n",
              "      }\n",
              "    };\n",
              "\n",
              "    // Use a chunked sending to avoid message size limits. See b/62115660.\n",
              "    let position = 0;\n",
              "    do {\n",
              "      const length = Math.min(fileData.byteLength - position, MAX_PAYLOAD_SIZE);\n",
              "      const chunk = new Uint8Array(fileData, position, length);\n",
              "      position += length;\n",
              "\n",
              "      const base64 = btoa(String.fromCharCode.apply(null, chunk));\n",
              "      yield {\n",
              "        response: {\n",
              "          action: 'append',\n",
              "          file: file.name,\n",
              "          data: base64,\n",
              "        },\n",
              "      };\n",
              "\n",
              "      let percentDone = fileData.byteLength === 0 ?\n",
              "          100 :\n",
              "          Math.round((position / fileData.byteLength) * 100);\n",
              "      percent.textContent = `${percentDone}% done`;\n",
              "\n",
              "    } while (position < fileData.byteLength);\n",
              "  }\n",
              "\n",
              "  // All done.\n",
              "  yield {\n",
              "    response: {\n",
              "      action: 'complete',\n",
              "    }\n",
              "  };\n",
              "}\n",
              "\n",
              "scope.google = scope.google || {};\n",
              "scope.google.colab = scope.google.colab || {};\n",
              "scope.google.colab._files = {\n",
              "  _uploadFiles,\n",
              "  _uploadFilesContinue,\n",
              "};\n",
              "})(self);\n",
              "</script> "
            ]
          },
          "metadata": {}
        },
        {
          "output_type": "stream",
          "name": "stdout",
          "text": [
            "Saving secure-connect-documentation.zip to secure-connect-documentation.zip\n"
          ]
        }
      ],
      "source": [
        "#upload secure connect bundle\n",
        "print('Please upload your Secure Connect Bundle')\n",
        "uploaded = files.upload()\n",
        "if uploaded:\n",
        "    astraBundleFileTitle = list(uploaded.keys())[0]\n",
        "    SECURE_CONNECT_BUNDLE_PATH = os.path.join(os.getcwd(), astraBundleFileTitle)\n",
        "else:\n",
        "    raise ValueError(\n",
        "        'Cannot proceed without Secure Connect Bundle. Please re-run the cell.'\n",
        "    )\n",
        "#Alternatively upload to the environment and reference it here\n",
        "#SECURE_CONNECT_BUNDLE_PATH = '/content/secure-connect-documentation.zip'\n"
      ],
      "id": "QvY0HTqm3chY"
    },
    {
      "cell_type": "code",
      "execution_count": 42,
      "metadata": {
        "colab": {
          "base_uri": "https://localhost:8080/"
        },
        "id": "39b4b87b",
        "outputId": "0875d2bc-2d0a-495d-aac6-9517d816c27a"
      },
      "outputs": [
        {
          "name": "stdout",
          "output_type": "stream",
          "text": [
            "What Astra DB token username do you want to use? ··········\n"
          ]
        }
      ],
      "source": [
        "ASTRA_DB_TOKEN_BASED_USERNAME = getpass.getpass('What Astra DB token username do you want to use? ')\n",
        "#ASTRA_DB_TOKEN_BASED_USERNAME = '<<ENTER>>'"
      ],
      "id": "39b4b87b"
    },
    {
      "cell_type": "code",
      "execution_count": 43,
      "metadata": {
        "colab": {
          "base_uri": "https://localhost:8080/"
        },
        "id": "38EAz0Kupms-",
        "outputId": "f901d138-488b-4148-8471-775e4659a13f"
      },
      "outputs": [
        {
          "name": "stdout",
          "output_type": "stream",
          "text": [
            "What Astra DB token password do you want to use? ··········\n"
          ]
        }
      ],
      "source": [
        "ASTRA_DB_TOKEN_BASED_PASSWORD = getpass.getpass('What Astra DB token password do you want to use? ')\n",
        "#ASTRA_DB_TOKEN_BASED_PASSWORD = '<<ENTER>>'"
      ],
      "id": "38EAz0Kupms-"
    },
    {
      "cell_type": "code",
      "execution_count": 6,
      "metadata": {
        "colab": {
          "base_uri": "https://localhost:8080/"
        },
        "id": "YZqO7R66hmMU",
        "outputId": "8e93ac0e-89e3-4a0b-b817-14ba9f3ddd75"
      },
      "outputs": [
        {
          "name": "stdout",
          "output_type": "stream",
          "text": [
            "Which Astra DB keypsace do you want to use? mykeyspace\n"
          ]
        }
      ],
      "source": [
        "ASTRA_DB_KEYSPACE = input(f'Which Astra DB keypsace do you want to use? ')\n",
        "#ASTRA_DB_KEYSPACE = 'mykeyspace'"
      ],
      "id": "YZqO7R66hmMU"
    },
    {
      "cell_type": "markdown",
      "metadata": {
        "id": "tyZ1IC4d3U15"
      },
      "source": [
        "# Provide Sample Data\n",
        "If you want to provide some docoments, you can upload them here.\n",
        "As a sample document you can also download some text here:"
      ],
      "id": "tyZ1IC4d3U15"
    },
    {
      "cell_type": "code",
      "execution_count": 7,
      "metadata": {
        "colab": {
          "base_uri": "https://localhost:8080/"
        },
        "id": "1VsVGojG663U",
        "outputId": "c63bed0d-5487-4c45-b1de-545538c6fa98"
      },
      "outputs": [
        {
          "output_type": "stream",
          "name": "stdout",
          "text": [
            "  % Total    % Received % Xferd  Average Speed   Time    Time     Time  Current\n",
            "                                 Dload  Upload   Total   Spent    Left  Speed\n",
            "\r  0     0    0     0    0     0      0      0 --:--:-- --:--:-- --:--:--     0\r100 13022  100 13022    0     0  71944      0 --:--:-- --:--:-- --:--:-- 71944\n"
          ]
        }
      ],
      "source": [
        "# retrieve the text of a short story that will be indexed in the vector store\n",
        "! curl https://raw.githubusercontent.com/CassioML/cassio-website/main/docs/frameworks/langchain/texts/amontillado.txt --output amontillado.txt\n",
        "SAMPLEDATA_PATH=\"amontillado.txt\""
      ],
      "id": "1VsVGojG663U"
    },
    {
      "cell_type": "code",
      "execution_count": null,
      "metadata": {
        "id": "PjxwchCO3n_8"
      },
      "outputs": [],
      "source": [
        "# Alternatively you can provide your own file - please consider to customize the queries at the end of the notebook to match your content.\n",
        "#provide some sample files\n",
        "print('Please upload your own sample file:')\n",
        "uploaded = files.upload()\n",
        "if uploaded:\n",
        "    sampleDataFileTitle = list(uploaded.keys())[0]\n",
        "    SAMPLEDATA_PATH = os.path.join(os.getcwd(), sampleDataFileTitle)\n",
        "else:\n",
        "    raise ValueError(\n",
        "        'Cannot proceed without Sample Data. Please re-run the cell.'\n",
        "    )"
      ],
      "id": "PjxwchCO3n_8"
    },
    {
      "cell_type": "markdown",
      "metadata": {
        "id": "33e090e7"
      },
      "source": [
        "# Connect to Astra DB"
      ],
      "id": "33e090e7"
    },
    {
      "cell_type": "code",
      "execution_count": 8,
      "metadata": {
        "colab": {
          "base_uri": "https://localhost:8080/"
        },
        "id": "e8c527a1",
        "outputId": "c80fa70a-0197-4fe3-c074-80ad226d711b"
      },
      "outputs": [
        {
          "output_type": "stream",
          "name": "stderr",
          "text": [
            "WARNING:cassandra.cluster:Downgrading core protocol version from 66 to 65 for cfe0851c-36a8-420c-9b15-ac1200c177c7-us-east1.db.astra.datastax.com:29042:1774fd29-77c9-49fc-9f53-77e7d967f362. To avoid this, it is best practice to explicitly set Cluster(protocol_version) to the version supported by your cluster. http://datastax.github.io/python-driver/api/cassandra/cluster.html#cassandra.cluster.Cluster.protocol_version\n",
            "WARNING:cassandra.cluster:Downgrading core protocol version from 65 to 5 for cfe0851c-36a8-420c-9b15-ac1200c177c7-us-east1.db.astra.datastax.com:29042:1774fd29-77c9-49fc-9f53-77e7d967f362. To avoid this, it is best practice to explicitly set Cluster(protocol_version) to the version supported by your cluster. http://datastax.github.io/python-driver/api/cassandra/cluster.html#cassandra.cluster.Cluster.protocol_version\n",
            "ERROR:cassandra.connection:Closing connection <AsyncoreConnection(140288259176048) cfe0851c-36a8-420c-9b15-ac1200c177c7-us-east1.db.astra.datastax.com:29042:1774fd29-77c9-49fc-9f53-77e7d967f362> due to protocol error: Error from server: code=000a [Protocol error] message=\"Beta version of the protocol used (5/v5-beta), but USE_BETA flag is unset\"\n",
            "WARNING:cassandra.cluster:Downgrading core protocol version from 5 to 4 for cfe0851c-36a8-420c-9b15-ac1200c177c7-us-east1.db.astra.datastax.com:29042:1774fd29-77c9-49fc-9f53-77e7d967f362. To avoid this, it is best practice to explicitly set Cluster(protocol_version) to the version supported by your cluster. http://datastax.github.io/python-driver/api/cassandra/cluster.html#cassandra.cluster.Cluster.protocol_version\n"
          ]
        }
      ],
      "source": [
        "# make sure that you can connect to Astra DB - if you see errors, then have a look at the environment you configured earlier\n",
        "\n",
        "cloud_config = {\n",
        "   'secure_connect_bundle': SECURE_CONNECT_BUNDLE_PATH\n",
        "}\n",
        "auth_provider = PlainTextAuthProvider(ASTRA_DB_TOKEN_BASED_USERNAME, ASTRA_DB_TOKEN_BASED_PASSWORD)\n",
        "cluster = Cluster(cloud=cloud_config, auth_provider=auth_provider)\n",
        "session = cluster.connect()"
      ],
      "id": "e8c527a1"
    },
    {
      "cell_type": "markdown",
      "metadata": {
        "id": "8251382e"
      },
      "source": [
        "# LLM Provider Setup\n",
        "CassIO seamlessly integrates with LangChain, offering Cassandra-specific tools for many tasks. In our example we will use vector stores, indexers, embeddings and queries.\n",
        "\n",
        "And we will use OpenAI for our LLM services. (See Pre-requisites on [cassio.org](https://cassio.org/start_here/#llm-access) for more details)."
      ],
      "id": "8251382e"
    },
    {
      "cell_type": "code",
      "execution_count": 9,
      "metadata": {
        "id": "b048314c"
      },
      "outputs": [],
      "source": [
        "# Set your secret(s) for LLM access:\n",
        "llmProvider = 'OpenAI'  # Be aware that you can also use 'GCP_VertexAI' with Cassio (as of date of authoring this notebook)"
      ],
      "id": "b048314c"
    },
    {
      "cell_type": "code",
      "execution_count": 10,
      "metadata": {
        "colab": {
          "base_uri": "https://localhost:8080/"
        },
        "id": "J5VPZclr6n67",
        "outputId": "227d0ad3-5dd4-4e5e-cc1b-dd74e0a2d32e"
      },
      "outputs": [
        {
          "name": "stdout",
          "output_type": "stream",
          "text": [
            "Your secret for LLM provider OpenAI: ··········\n"
          ]
        }
      ],
      "source": [
        "#we will use GPT embeddings, so please provide your OpenAI AKP Key\n",
        "apiSecret = getpass.getpass('Your secret for LLM provider OpenAI: ')\n",
        "#apiSecret = \"<<ENTER>>\"\n",
        "os.environ['OPENAI_API_KEY'] = apiSecret"
      ],
      "id": "J5VPZclr6n67"
    },
    {
      "cell_type": "code",
      "execution_count": 11,
      "metadata": {
        "colab": {
          "base_uri": "https://localhost:8080/"
        },
        "id": "TE5pZsfs7iPT",
        "outputId": "d9fcd59a-9c1c-4144-d7c1-5a3a6411bafc"
      },
      "outputs": [
        {
          "output_type": "stream",
          "name": "stdout",
          "text": [
            "LLM+embeddings from OpenAI will be used.\n"
          ]
        }
      ],
      "source": [
        "#Import the needed libraries and declare the LLM model\n",
        "import langchain\n",
        "from langchain.indexes import VectorstoreIndexCreator\n",
        "from langchain.text_splitter import (\n",
        "    CharacterTextSplitter,\n",
        "    RecursiveCharacterTextSplitter,\n",
        ")\n",
        "from langchain.docstore.document import Document\n",
        "from langchain.document_loaders import TextLoader\n",
        "\n",
        "\n",
        "from langchain.vectorstores.cassandra import Cassandra\n",
        "\n",
        "\n",
        "# creation of the LLM resources\n",
        "from langchain.llms import OpenAI\n",
        "from langchain.embeddings import OpenAIEmbeddings\n",
        "llm = OpenAI(temperature=0)\n",
        "myEmbedding = OpenAIEmbeddings()\n",
        "print('LLM+embeddings from OpenAI will be used.')"
      ],
      "id": "TE5pZsfs7iPT"
    },
    {
      "cell_type": "markdown",
      "metadata": {
        "id": "ySowfxhDw3ee"
      },
      "source": [
        "#Define the Vector Store on Astra DB\n",
        "Cassio will automatically create the needed tables and SAI in Astra DB for you. No worries about that configuration."
      ],
      "id": "ySowfxhDw3ee"
    },
    {
      "cell_type": "code",
      "execution_count": 35,
      "metadata": {
        "id": "PWC3Gu5yXHUP"
      },
      "outputs": [],
      "source": [
        "#define the table name to be used to store our embeddings, Cassio will create the objects in Astra DB for you.\n",
        "ASTRA_DB_TABLE_NAME = 'vdocuments'\n",
        "cassVStore = Cassandra(\n",
        "    session=session,\n",
        "    keyspace=ASTRA_DB_KEYSPACE,\n",
        "    table_name=ASTRA_DB_TABLE_NAME,\n",
        "    embedding=myEmbedding,\n",
        ")\n",
        "\n",
        "# just in case this demo runs multiple times and you want to clean up, run this:\n",
        "#cassVStore.clear()"
      ],
      "id": "PWC3Gu5yXHUP"
    },
    {
      "cell_type": "code",
      "execution_count": 36,
      "metadata": {
        "id": "abNQDp_J8eXP"
      },
      "outputs": [],
      "source": [
        "# Index and Embedding based on Cassandra as vector store\n",
        "\n",
        "index_creator = VectorstoreIndexCreator(\n",
        "    vectorstore_cls=Cassandra,\n",
        "    embedding=myEmbedding,\n",
        "    text_splitter=CharacterTextSplitter(\n",
        "        chunk_size=400,\n",
        "        chunk_overlap=0,\n",
        "    ),\n",
        "    vectorstore_kwargs={\n",
        "        'session': session,\n",
        "        'keyspace': ASTRA_DB_KEYSPACE,\n",
        "        'table_name': ASTRA_DB_TABLE_NAME,\n",
        "    },\n",
        ")"
      ],
      "id": "abNQDp_J8eXP"
    },
    {
      "cell_type": "markdown",
      "metadata": {
        "id": "IjBKFYGlzD1m"
      },
      "source": [
        "# Load the Documents you want to process and create the embeddings to be stored in the Vector Database on Astra DB"
      ],
      "id": "IjBKFYGlzD1m"
    },
    {
      "cell_type": "code",
      "execution_count": 37,
      "metadata": {
        "id": "NEei8agU83AX"
      },
      "outputs": [],
      "source": [
        "#loader = TextLoader('amontillado.txt', encoding='utf8')\n",
        "loader = TextLoader(SAMPLEDATA_PATH, encoding='utf8')"
      ],
      "id": "NEei8agU83AX"
    },
    {
      "cell_type": "code",
      "source": [
        "index = index_creator.from_loaders([loader])"
      ],
      "metadata": {
        "colab": {
          "base_uri": "https://localhost:8080/"
        },
        "id": "SmsRjgpFQOun",
        "outputId": "d7da76a7-a4ef-4f88-b694-0529e046f68a"
      },
      "id": "SmsRjgpFQOun",
      "execution_count": 38,
      "outputs": [
        {
          "output_type": "stream",
          "name": "stderr",
          "text": [
            "WARNING:langchain.text_splitter:Created a chunk of size 603, which is longer than the specified 400\n",
            "WARNING:langchain.text_splitter:Created a chunk of size 609, which is longer than the specified 400\n",
            "WARNING:langchain.text_splitter:Created a chunk of size 808, which is longer than the specified 400\n",
            "WARNING:langchain.text_splitter:Created a chunk of size 648, which is longer than the specified 400\n",
            "WARNING:langchain.text_splitter:Created a chunk of size 879, which is longer than the specified 400\n",
            "WARNING:langchain.text_splitter:Created a chunk of size 546, which is longer than the specified 400\n",
            "WARNING:langchain.text_splitter:Created a chunk of size 525, which is longer than the specified 400\n"
          ]
        }
      ]
    },
    {
      "cell_type": "markdown",
      "metadata": {
        "id": "87dgg1pvzT1F"
      },
      "source": [
        "# Query the Vector Store to see what has been added to it and what happended with our documentation"
      ],
      "id": "87dgg1pvzT1F"
    },
    {
      "cell_type": "code",
      "execution_count": 39,
      "metadata": {
        "colab": {
          "base_uri": "https://localhost:8080/"
        },
        "id": "pepS7NSo9KRO",
        "outputId": "8de74b62-516a-4ece-bd4d-f05646c62798"
      },
      "outputs": [
        {
          "output_type": "stream",
          "name": "stdout",
          "text": [
            "\n",
            "Row 0:\n",
            "    document_id:      21fbd9985564f7f12ac51f4c20232d75\n",
            "    embedding_vector: [-0.020062334835529327, 0.0050775897689163685, 0.009225091896951 ...\n",
            "    document:         \"Pass your hand,\" I said, \"over the wall; you cannot help feelin ...\n",
            "    metadata_blob:    {\"source\": \"amontillado.txt\"}\n",
            "\n",
            "Row 1:\n",
            "    document_id:      f5020721820969b3fbf6b12691818508\n",
            "    embedding_vector: [-0.01063380017876625, 0.00014423552784137428, 0.009167313575744 ...\n",
            "    document:         No answer still.  I thrust a torch through the remaining apertur ...\n",
            "    metadata_blob:    {\"source\": \"amontillado.txt\"}\n",
            "\n",
            "Row 2:\n",
            "    document_id:      d2ff9ab96b181d455481c67f84558091\n",
            "    embedding_vector: [-0.01560208573937416, -0.0050873467698693275, 0.020469402894377 ...\n",
            "    document:         I said to him--\"My dear Fortunato, you are luckily met.  How rem ...\n",
            "    metadata_blob:    {\"source\": \"amontillado.txt\"}\n",
            "\n",
            "...\n"
          ]
        }
      ],
      "source": [
        "cqlSelect = f'SELECT * FROM {ASTRA_DB_KEYSPACE}.{ASTRA_DB_TABLE_NAME} LIMIT 3;'  # (Not a production-optimized query ...)\n",
        "rows = session.execute(cqlSelect)\n",
        "for row_i, row in enumerate(rows):\n",
        "    print(f'\\nRow {row_i}:')\n",
        "    print(f'    document_id:      {row.document_id}')\n",
        "    print(f'    embedding_vector: {str(row.embedding_vector)[:64]} ...')\n",
        "    print(f'    document:         {row.document[:64]} ...')\n",
        "    print(f'    metadata_blob:    {row.metadata_blob}')\n",
        "\n",
        "print('\\n...')"
      ],
      "id": "pepS7NSo9KRO"
    },
    {
      "cell_type": "markdown",
      "metadata": {
        "id": "Hc9n3zmQzgVi"
      },
      "source": [
        "# ASK - Ask Question and get Awnsers based on your documentation"
      ],
      "id": "Hc9n3zmQzgVi"
    },
    {
      "cell_type": "code",
      "execution_count": 40,
      "metadata": {
        "colab": {
          "base_uri": "https://localhost:8080/",
          "height": 35
        },
        "id": "Z7srVUajZw7g",
        "outputId": "76486c9c-bc94-4abb-b381-484c1f083e6c"
      },
      "outputs": [
        {
          "output_type": "execute_result",
          "data": {
            "text/plain": [
              "' Luchesi is a connoisseur of wine who Fortunato believes can tell Amontillado from Sherry.'"
            ],
            "application/vnd.google.colaboratory.intrinsic+json": {
              "type": "string"
            }
          },
          "metadata": {},
          "execution_count": 40
        }
      ],
      "source": [
        "# Search within the document contexnt for some text related information.\n",
        "query = \"Who is Luchesi?\"\n",
        "index.query(query, llm=llm)"
      ],
      "id": "Z7srVUajZw7g"
    },
    {
      "cell_type": "code",
      "execution_count": 41,
      "metadata": {
        "colab": {
          "base_uri": "https://localhost:8080/",
          "height": 35
        },
        "id": "Yl0ewjNfjQIJ",
        "outputId": "c41cd504-89bf-4969-a307-4a014ed24d2d"
      },
      "outputs": [
        {
          "output_type": "execute_result",
          "data": {
            "text/plain": [
              "\" I don't know.\""
            ],
            "application/vnd.google.colaboratory.intrinsic+json": {
              "type": "string"
            }
          },
          "metadata": {},
          "execution_count": 41
        }
      ],
      "source": [
        "# Search within the document contexnt for some text un-related information.\n",
        "query = \"Who is John Doe?\"\n",
        "index.query(query, llm=llm)"
      ],
      "id": "Yl0ewjNfjQIJ"
    },
    {
      "cell_type": "markdown",
      "metadata": {
        "id": "24N5yBbSzp-a"
      },
      "source": [
        "Congratulations - you just created and GenAI based Q/A Bot for you own documentation!"
      ],
      "id": "24N5yBbSzp-a"
    }
  ],
  "metadata": {
    "colab": {
      "provenance": [],
      "include_colab_link": true
    },
    "kernelspec": {
      "display_name": "Python 3 (ipykernel)",
      "language": "python",
      "name": "python3"
    },
    "language_info": {
      "codemirror_mode": {
        "name": "ipython",
        "version": 3
      },
      "file_extension": ".py",
      "mimetype": "text/x-python",
      "name": "python",
      "nbconvert_exporter": "python",
      "pygments_lexer": "ipython3",
      "version": "3.9.6"
    }
  },
  "nbformat": 4,
  "nbformat_minor": 5
}